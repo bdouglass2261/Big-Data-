{
 "cells": [
  {
   "cell_type": "markdown",
   "metadata": {},
   "source": [
    "<h1> Trends of Police Murdurs in Cities from 2013 through 2015 by Crime Rate, Race, and Location </h1>\n",
    "\n",
    "Ben Douglass\n",
    "\n",
    "October 24, 2016\n",
    "\n",
    "Big Data, Period 8"
   ]
  },
  {
   "cell_type": "markdown",
   "metadata": {},
   "source": [
    "<h2> Introduction </h2>"
   ]
  },
  {
   "cell_type": "markdown",
   "metadata": {},
   "source": [
    "Police shootings are much more common in the US than they should be. I can examine data from cities in 2013 through 2015 describing all documented police killings to further examine potential root problems. Some potential causes of this problem that I will examine are crime rate, race, and location. If I find a strong correlation between police killings and one of these potential causes, then it is possible that the number of killings by police could be altered for the better by changing the cause. "
   ]
  },
  {
   "cell_type": "markdown",
   "metadata": {},
   "source": [
    "<h2> Part 1 Code </h2>"
   ]
  },
  {
   "cell_type": "code",
   "execution_count": 3,
   "metadata": {
    "collapsed": false
   },
   "outputs": [
    {
     "name": "stdout",
     "output_type": "stream",
     "text": [
      "Violent crime in each state: [4934.0, 1101.0, 2605.0, 1854.0, 5577.0, 1448.0, 3581.0, 1678.0, 8346.0, 2120.0, 3369.0, 4749.0, 3174.0, 466.0, 5054.0, 991.0, 24089.0, 612.0, 2695.0, 5186.0, 2039.0, 4563.0, 2094.0, 8457.0, 3983.0, 13616.0, 1834.0, 2671.0, 816.0, 4420.0, 284.0, 2382.0, 644.0, 905.0, 1346.0, 452.0, 782.0, 2605.0, 22008.0, 10768.0, 120.0, 512.0, 5853.0, 1381.0, 5862.0, 976.0, 12876.0, 1041.0, 918.0, 2304.0, 19171.0, 4005.0, 2084.0, 846.0, 11399.0, 2119.0, 4473.0, 8864.0, 4093.0, 7270.0, 3770.0, 50564.0, 3008.0, 1280.0, 1782.0, 6910.0, 4782.0, 2458.0, 2340.0, 15925.0, 8749.0, 2455.0, 459.0, 2911.0, 1683.0, 1147.0, 1384.0, 1765.0, 2968.0, 7704.0, 2128.0, 5214.0, 6761.0, 3242.0, 1260.0, 337.0, 4001.0, 1156.0, 5348.0, 1974.0, 2169.0, 3988.0, 2080.0, 3068.0, 3368.0, 3217.0, 660.0, 7810.0, 3065.0, 1696.0]\n",
      "\n",
      "People killed in cities: [15.0, 8.0, 6.0, 5.0, 7.0, 11.0, 17.0, 16.0, 26.0, 5.0, 5.0, 7.0, 0.0, 2.0, 11.0, 2.0, 55.0, 1.0, 10.0, 6.0, 3.0, 23.0, 3.0, 28.0, 17.0, 9.0, 5.0, 11.0, 6.0, 15.0, 3.0, 16.0, 4.0, 5.0, 2.0, 5.0, 3.0, 8.0, 43.0, 23.0, 0.0, 4.0, 21.0, 3.0, 14.0, 4.0, 27.0, 3.0, 3.0, 16.0, 79.0, 9.0, 3.0, 6.0, 17.0, 12.0, 6.0, 10.0, 5.0, 7.0, 8.0, 57.0, 3.0, 11.0, 5.0, 8.0, 31.0, 13.0, 15.0, 20.0, 59.0, 5.0, 0.0, 7.0, 4.0, 8.0, 6.0, 3.0, 9.0, 26.0, 9.0, 20.0, 14.0, 12.0, 11.0, 6.0, 15.0, 8.0, 19.0, 10.0, 9.0, 14.0, 6.0, 4.0, 17.0, 11.0, 3.0, 13.0, 7.0, 3.0]\n",
      "\n",
      "R value for Violent Crime vs. People Killed in Cities: 0.748639746179\n",
      "\n",
      "\n",
      "Black population: [14878.0, 8209.0, 15308.0, 67087.0, 224316.0, 49003.0, 60760.0, 26677.0, 392938.0, 124542.0, 155258.0, 138073.0, 97637.0, 10580.0, 252007.0, 65204.0, 872286.0, 9972.0, 132307.0, 208208.0, 24391.0, 217694.0, 11912.0, 294159.0, 58388.0, 586573.0, 92285.0, 18155.0, 38514.0, 136941.0, 6743.0, 37885.0, 32164.0, 12766.0, 108233.0, 12471.0, 6066.0, 4642.0, 485956.0, 223053.0, 3494.0, 25550.0, 247516.0, 59060.0, 135916.0, 478.0, 62008.0, 42336.0, 9541.0, 59925.0, 347380.0, 135138.0, 18744.0, 16507.0, 408075.0, 14101.0, 64993.0, 233325.0, 69971.0, 169272.0, 204866.0, 1861295.0, 138074.0, 102452.0, 41561.0, 106637.0, 85744.0, 55128.0, 63584.0, 644287.0, 86788.0, 78847.0, 19199.0, 35462.0, 115976.0, 5990.0, 19917.0, 83346.0, 64967.0, 83365.0, 29897.0, 82497.0, 46781.0, 27508.0, 3177.0, 3484.0, 47113.0, 4643.0, 156389.0, 43620.0, 57489.0, 33507.0, 83032.0, 76820.0, 23362.0, 61230.0, 83210.0, 301053.0, 42676.0, 78065.0]\n",
      "\n",
      "Blacks killed: [3.0, 2.0, 0.0, 3.0, 5.0, 3.0, 2.0, 1.0, 22.0, 5.0, 4.0, 6.0, 0.0, 0.0, 8.0, 2.0, 39.0, 0.0, 7.0, 6.0, 0.0, 19.0, 0.0, 10.0, 0.0, 2.0, 2.0, 2.0, 4.0, 4.0, 0.0, 1.0, 2.0, 1.0, 1.0, 0.0, 1.0, 0.0, 24.0, 12.0, 0.0, 1.0, 13.0, 3.0, 7.0, 0.0, 3.0, 1.0, 1.0, 5.0, 19.0, 6.0, 0.0, 2.0, 10.0, 0.0, 3.0, 9.0, 3.0, 3.0, 5.0, 35.0, 1.0, 7.0, 2.0, 6.0, 15.0, 4.0, 7.0, 9.0, 5.0, 3.0, 0.0, 0.0, 3.0, 2.0, 2.0, 2.0, 2.0, 6.0, 0.0, 1.0, 3.0, 1.0, 1.0, 1.0, 2.0, 1.0, 17.0, 3.0, 2.0, 2.0, 1.0, 2.0, 2.0, 4.0, 2.0, 11.0, 1.0, 2.0]\n",
      "\n",
      "R value for Black Population vs. Black People Killed by Police: 0.79236715619\n"
     ]
    }
   ],
   "source": [
    "import statistics as st\n",
    "import matplotlib.pyplot as plt\n",
    "%matplotlib inline\n",
    "import numpy as np\n",
    "from scipy.stats import linregress\n",
    "\n",
    "#VIOLENT CRIME vs. PEOPLE KILLED IN CITIES\n",
    "file_VCrime = open(\"violent_crime.csv\", \"r\")\n",
    "list_VCrime = []\n",
    "for qq in file_VCrime:\n",
    "    list_VCrime.append(qq)\n",
    "del list_VCrime[0]\n",
    "for q in range(len(list_VCrime)):\n",
    "    list_VCrime[q] = float(list_VCrime[q])\n",
    "    \n",
    "print (\"Violent crime in each state:\", list_VCrime)\n",
    "print ()\n",
    "\n",
    "file_peoplekilledincities = open(\"People_Killed_in_Cities.csv\", \"r\")\n",
    "list_pkc = []\n",
    "for aa in file_peoplekilledincities:\n",
    "    list_pkc.append(aa)\n",
    "del list_pkc[0]\n",
    "for ab in range(len(list_pkc)):\n",
    "    list_pkc[ab] = float(list_pkc[ab])\n",
    "\n",
    "print(\"People killed in cities:\", list_pkc)\n",
    "print ()\n",
    "\n",
    "\n",
    "\n",
    "slope1, intercept1, rvalue1, pvalue1, stderr1 = linregress(list_VCrime, list_pkc);\n",
    "print (\"R value for Violent Crime vs. People Killed in Cities:\", rvalue1)\n",
    "print ()\n",
    "print()\n",
    "\n",
    "\n",
    "#BLACK POPULATION vs. BLACKS KILLED BY POLICE\n",
    "\n",
    "file_blackpop = open(\"Black_Population.csv\", \"r\")\n",
    "list_blackpop = []\n",
    "for rr in file_blackpop:\n",
    "    list_blackpop.append(rr)\n",
    "del(list_blackpop[0])\n",
    "for tt in range (len(list_blackpop)):\n",
    "    list_blackpop[tt] = float(list_blackpop[tt])\n",
    "\n",
    "print (\"Black population:\", list_blackpop)\n",
    "print()\n",
    "\n",
    "#bk = blacks killed\n",
    "file_bk = open(\"Blacks_Killed.csv\", \"r\")\n",
    "list_bk= []\n",
    "for tt in file_bk:\n",
    "    list_bk.append(tt)\n",
    "del(list_bk[0])\n",
    "for aa in range (len(list_bk)):\n",
    "    list_bk[aa] = float(list_bk[aa])\n",
    "\n",
    "print (\"Blacks killed:\", list_bk)\n",
    "print()\n",
    "\n",
    "slope1, intercept1, rvalue1, pvalue1, stderr1 = linregress(list_blackpop, list_bk);\n",
    "print (\"R value for Black Population vs. Black People Killed by Police:\", rvalue1)\n",
    "\n",
    "\n"
   ]
  },
  {
   "cell_type": "code",
   "execution_count": 13,
   "metadata": {
    "collapsed": false
   },
   "outputs": [
    {
     "name": "stdout",
     "output_type": "stream",
     "text": [
      "Violent Crime vs. People Killed by Police:\n",
      "R value for Violent Crime vs. People Killed by Police: 0.748639746179\n"
     ]
    },
    {
     "data": {
      "text/plain": [
       "<matplotlib.text.Text at 0x111a23e48>"
      ]
     },
     "execution_count": 13,
     "metadata": {},
     "output_type": "execute_result"
    },
    {
     "data": {
      "image/png": "[encoded data removed]",
      "text/plain": [
       "<matplotlib.figure.Figure at 0x10e67fac8>"
      ]
     },
     "metadata": {},
     "output_type": "display_data"
    }
   ],
   "source": [
    "print (\"Violent Crime vs. People Killed by Police:\")\n",
    "plt.scatter(list_VCrime, list_pkc)\n",
    "slope1, intercept1, rvalue1, pvalue1, stderr1 = linregress(list_VCrime, list_pkc);\n",
    "print (\"R value for Violent Crime vs. People Killed by Police:\", rvalue1)\n",
    "plt.xlabel (\"Violent Crime\")\n",
    "plt.ylabel (\"Police Killings\")\n",
    "plt.title (\"Violent Crime vs. People Killed by Police\")"
   ]
  },
  {
   "cell_type": "code",
   "execution_count": 12,
   "metadata": {
    "collapsed": false
   },
   "outputs": [
    {
     "name": "stdout",
     "output_type": "stream",
     "text": [
      "Black Population vs. Black People Killed by Police:\n",
      "R value for Black Population vs. Black People Killed by Police: 0.79236715619\n"
     ]
    },
    {
     "data": {
      "text/plain": [
       "<matplotlib.text.Text at 0x11185efd0>"
      ]
     },
     "execution_count": 12,
     "metadata": {},
     "output_type": "execute_result"
    },
    {
     "data": {
      "image/png": "[encoded data removed]",
      "text/plain": [
       "<matplotlib.figure.Figure at 0x1116e7a58>"
      ]
     },
     "metadata": {},
     "output_type": "display_data"
    }
   ],
   "source": [
    "print (\"Black Population vs. Black People Killed by Police:\")\n",
    "plt.scatter(list_blackpop, list_bk)\n",
    "slope2, intercept2, rvalue2, pvalue2, stderr2 = linregress(list_blackpop, list_bk);\n",
    "print(\"R value for Black Population vs. Black People Killed by Police:\", rvalue2)\n",
    "plt.xlabel (\"Black Population\")\n",
    "plt.ylabel (\"Black People Killed by Police\")\n",
    "plt.title (\"Black Population vs. Black People Killed by Police\")"
   ]
  },
  {
   "cell_type": "markdown",
   "metadata": {},
   "source": [
    "<h2> Part 1 Analysis </h2>\n",
    "\n",
    "In the first half of part 1, I am comparing violent crime rates in cities and the number of people killed by police and seeing if there is a correlation where high violent crime rates in cities lead to more police killings in that city. When I did a linear regression, I found that the R value was 0.7486, which shows moderate corellation but not a strong one. The points of the graph generally get farther and farther from the line of best fit for the graph as the variables increase. The graph suggests that a pattern exists where as violent crime increases, the number of people killed by police increases as well. \n",
    "\n",
    "In the second half of part 1, I am comparing the black population in cities and the number of black people killed in each city to see if there is a correlation where a larger black population leads to more black killings by police. When I did a linear regression, I found that the R value was 0.7924, which is similar to the moderately correlated data of the previous half of part 1, but there is a little more correlation. The data seems to be more correlated because of more data points being in-line with the line of best fit, especially at the beginning. Interestingly, this graph has some odd outlying points right after this close correlation that seemed to be greater outliers than the prevoius graph with a little less correlation. The graph suggests a pattern where as the black population of a city increases, the number of black people killed will also increase.\n",
    "\n",
    "Each of these conclusions makes a lot of sense. In part 1, if a person is more likely to be killed if they commit a violent crime, then if more people are committing violent crimes, more people will be killed by police. Additionally in part 2, if a certain rate of black people are killed by police, then the number of black people killed at this rate will increase as the black population increases. This principle could apply to any situation where one variable could directly cause another variable. In these situations violent crime leads to police killings, and if there is a black person in a city, then there is the potential for them to be killed by the police. "
   ]
  },
  {
   "cell_type": "markdown",
   "metadata": {},
   "source": [
    "<h2> Part 2 Code </h2>"
   ]
  },
  {
   "cell_type": "code",
   "execution_count": 17,
   "metadata": {
    "collapsed": false
   },
   "outputs": [
    {
     "name": "stdout",
     "output_type": "stream",
     "text": [
      "Total deaths: [2.35585689582872e-05, 2.0560196829617647e-05, 3.2738868946631755e-05, 2.1705024767047682e-05, 2.3105653207996346e-05, 2.649371569063818e-05, 1.6666547619897955e-05, 2.372085300187395e-05, 2.0403635853714094e-05, 2.6998443400090863e-05, 1.830697129466901e-05, 1.3435743556441319e-05, 2.2674866828762893e-05, 4.187058446504692e-05, 1.133430700427789e-05, 1.2608980115638357e-05, 3.507934948854309e-05, 4.235759824716557e-05, 2.3975892240352324e-05, 1.649693761848009e-05, 1.1434299468114504e-05, 2.7479976257300514e-05, 6.938816293450867e-06, 1.3419151490948246e-05, 2.432128072470629e-05, 4.321410014353255e-05, 1.1990900619415666e-05, 8.412868593011666e-06, 1.922905895389112e-05, 1.8855450989419547e-05, 1.7718597661588072e-05, 2.8131941250721647e-05, 1.9322691361066228e-05]\n",
      "\n",
      "Highest deathrate by police of any race is Oklahoma: 4.321410014353255e-05\n",
      "\n",
      "Total black people killed by police: [2.576356773886048e-05, 0.0, 5.957069386620422e-05, 5.026372062986998e-05, 2.2764869253767586e-05, 5.165684548863549e-05, 2.2289983772891813e-05, 0.0, 4.4710106547623145e-05, 6.116979588403735e-05, 2.3432374168150716e-05, 3.944239719620902e-05, 3.0357489799883426e-05, 5.598847655355298e-05, 4.3455273659585874e-05, 3.4096352883613803e-06, 6.87757909215956e-05, 8.210601939754709e-05, 7.731679784750035e-05, 5.736294353847415e-05, 2.0290766686619255e-05, 0.00020164000537706682, 1.8117024224909635e-05, 2.4746120272331055e-05, 5.354086191339293e-05, 0.00012927456556942045, 0.0, 1.6594434779722706e-05, 2.251678799751276e-05, 4.304606726346585e-05, 4.3848110146452686e-05, 5.796429399489914e-05, 2.001344903775337e-05]\n",
      "\n",
      "If you are Black, you are most likely to be killed by police in New Mexico:  0.00020164000537706682\n"
     ]
    }
   ],
   "source": [
    "#Worked with Justin and Jai on this code.\n",
    "\n",
    "policekillstate=[5,6,101,242,31,60,7,8,55,29,7,12,13,26,7,9,10,33,16,45,6,15,60,25,43,42,7,25,24,163,16,23,16]\n",
    "\n",
    "\n",
    "total_of_states=[212237,291826,3085018,11149492,1341663,2264688,420003,337256,2695598,1074136,382368,893140,573322,620961,617594,713777,285068,779081,667337,2727779,524737,545852,8647008,1863009,1767999,971905,583776,2971638,1248111,8644715,903006,817576,828042]\n",
    "\n",
    "\n",
    "\n",
    "state_total = [];\n",
    "\n",
    "\n",
    "for bb in range(33):\n",
    "    state_total.append(policekillstate[bb]/total_of_states[bb])\n",
    "\n",
    "\n",
    "print(\"Total deaths:\",state_total)\n",
    "print ()\n",
    "print(\"Highest deathrate by police of any race is Oklahoma:\",max(state_total))\n",
    "print ()\n",
    "\n",
    "\n",
    "\n",
    "policekillblack=[4,0,9,46,3,27,5,0,39,16,1,7,10,22,6,2,3,24,5,7,4,3,37,16,34,19,0,12,13,54,11,3,5]\n",
    "\n",
    "blackpopulation=[155258,15308,151081,915173,131782,522680,224316,4642,872286,261567,42676,177474,329408,392938,138073,586573,43620,292305,64669,122030,197134,14878,2042278,646566,635029,146974,35462,723134,577347,1254470,250866,51756,249832]\n",
    "\n",
    "\n",
    "black_kills=[]\n",
    "for ii in range(33):\n",
    "    black_kills.append(policekillblack[ii]/blackpopulation[ii]);\n",
    "\n",
    "print(\"Total black people killed by police:\",black_kills)\n",
    "print()\n",
    "print(\"If you are Black, you are most likely to be killed by police in New Mexico: \",(max(black_kills)))\n",
    "\n"
   ]
  },
  {
   "cell_type": "markdown",
   "metadata": {},
   "source": [
    "<h2> Part 2 Analysis </h2>\n",
    "\n",
    "In Part 2, I am calculating in which state a person (regardless of race) is most likely to be killed. Additionally, I am calculating in which state a black person is most likely to be killed. \n",
    "\n",
    "I found that any person is most likely to be killed in <b>Oklahoma</b>. \n",
    "\n",
    "We can look at some of the other data for the city as well, to see if there is any additional correlations and possible causes of the police shooting rates. The crime rate of Oklahoma City is 8, and the crime rate for Tulsa is 8.1. These numbers are relatively high, but are not among the highest numbers in the data, which went into the teens in extreme cases. Still, it is worth knowing that there are a significant number of violent crimes committed in Oklahoma cities that could lead to more people being killed. \n",
    "\n",
    "I also found that a black person is most likely to be killed in <b>New Mexico</b>. \n",
    "\n",
    "The only city from New Mexico in the data is Albuquerque. Interestingly, other parts of the data don't show a very strong correlation with the fact that a black person is most likely to be killed in New Mexico. The violent crime rate is 8.8, which is high but not one of the highest. Additionally, the dissimilarity between blacks and whites is only 28.84, which is relatively low. \n",
    "\n",
    "There are no other trends in the data I was given that strongly support my results. However, sometimes the results are simply the results, and there may not always be a solid explanation for them.\n"
   ]
  },
  {
   "cell_type": "markdown",
   "metadata": {},
   "source": [
    "<h2> Conclusion </h2>"
   ]
  },
  {
   "cell_type": "markdown",
   "metadata": {},
   "source": [
    "There are often trends in cities that affect how many police killings there are. I found that an increased number of violent crimes can lead to an increased number of police killings. Additionally, I found that within the black population, an increase in the population leads to an increase in police killings. This happened because of the principal that if there is more of a variable that can lead to police killings, then there will be an increase in police killings. Because of this there could be a lot of factors that have a similar effect on police killings. \n",
    "\n",
    "I also found locations that are most common to be killed by police in. The most likely state to be killed by police is Oklahoma, and the most likely state to be killed by police as a black person is New Mexico. In this case there was no additional insights from the datasets. However, the results should still be take seriously even if we couldn't find a root cause from this data. \n",
    "\n",
    "These findings contribute to determining the problems that cause so many police killings. If we can recognize and prove that there is a problem and what some of it's causes are, then we can work toward fixing it and making America a safer place for everyone.  "
   ]
  }
 ],
 "metadata": {
  "anaconda-cloud": {},
  "kernelspec": {
   "display_name": "Python [Root]",
   "language": "python",
   "name": "Python [Root]"
  },
  "language_info": {
   "codemirror_mode": {
    "name": "ipython",
    "version": 3
   },
   "file_extension": ".py",
   "mimetype": "text/x-python",
   "name": "python",
   "nbconvert_exporter": "python",
   "pygments_lexer": "ipython3",
   "version": "3.5.2"
  }
 },
 "nbformat": 4,
 "nbformat_minor": 0
}
