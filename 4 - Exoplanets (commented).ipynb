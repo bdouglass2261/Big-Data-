{
 "cells": [
  {
   "cell_type": "markdown",
   "metadata": {},
   "source": [
    "<h1>How many exoplanets might be able to harbor life on their surface or on exomoons around the exoplanet? </h1>\n",
    "\n",
    "Ben Douglass\n",
    "\n",
    "11/14/16\n",
    "\n",
    "Big Data, Period 8"
   ]
  },
  {
   "cell_type": "markdown",
   "metadata": {},
   "source": [
    "<h2> Introduction: </h2>\n",
    "\n",
    "We have discovered more than 3,000 exoplanets, which are planets that orbit other stars. If almost every star in the sky has at least one exoplanet in its orbit, then it makes us wonder if there could be life outside our solar system. And then we ask, \"how many exoplanets might be able to harbor life as we know it?\" I will be attempting to answer this question. "
   ]
  },
  {
   "cell_type": "markdown",
   "metadata": {},
   "source": [
    "<h2>Code:"
   ]
  },
  {
   "cell_type": "code",
   "execution_count": 32,
   "metadata": {
    "collapsed": false
   },
   "outputs": [
    {
     "name": "stdout",
     "output_type": "stream",
     "text": [
      "How many planets might be habitable?\n",
      "47\n",
      "How many planets are not habitable?\n",
      "3547\n",
      "\n",
      "How many gas giants may have habitable exomoons?\n",
      "256\n",
      "How many planets do not have habitable exomoons?\n",
      "3338\n"
     ]
    }
   ],
   "source": [
    "import statistics as st\n",
    "import matplotlib.pyplot as plt\n",
    "\n",
    "file_exoplanet = open(\"confirmed_exoplanets.csv\", \"r\")\n",
    "#create list holding data\n",
    "list_exoplanet = []\n",
    "for ii in file_exoplanet:\n",
    "    list_exoplanet.append(ii)\n",
    "del list_exoplanet[0]\n",
    "\n",
    "#split the data with commas\n",
    "for kk in range(len(list_exoplanet)):\n",
    "    list_exoplanet[kk] = list_exoplanet[kk].split(\",\")\n",
    "\n",
    "\n",
    "    \n",
    "#PART 1 - planets with habitable surfaces\n",
    "#Planet distance \n",
    "list_1 = []\n",
    "for jj in range(len(list_exoplanet)):\n",
    "    if list_exoplanet[jj][30] >= list_exoplanet[jj][52] and list_exoplanet[jj][30] <= list_exoplanet[jj][53]:\n",
    "        list_1.append(\"yes\")\n",
    "    else:\n",
    "        list_1.append(\"no\")\n",
    "#column 30 = planet's distance from star\n",
    "#column 52 = min distance of habitable zone\n",
    "#cloumn 53 = max distance of habitable zone\n",
    "#yes = planet is in habitable zone\n",
    "\n",
    "    \n",
    "#Planet mass class \n",
    "list_2 = []\n",
    "for jj in range(len(list_exoplanet)):\n",
    "    if list_exoplanet[jj][4] == \"Subterran\":\n",
    "        list_2.append(\"yes\")\n",
    "    elif list_exoplanet[jj][4] == \"Terran\":\n",
    "        list_2.append(\"yes\")\n",
    "    elif list_exoplanet[jj][4] == \"Superterran\":\n",
    "        list_2.append(\"yes\")\n",
    "    else:\n",
    "        list_2.append(\"no\")\n",
    "#If word in column 4 is \"Subterran\", \"Terran\", and \"Superterran\", value in list_2 will be \"yes\"\n",
    "\n",
    "\n",
    "\n",
    "#Putting the two variables together\n",
    "#count of planets with life\n",
    "option1 = 0\n",
    "#count of planets without life\n",
    "option2 = 0\n",
    "\n",
    "print (\"How many planets might be habitable?\")\n",
    "for aa in range(len(list_exoplanet)):\n",
    "    if list_1[aa] == 'yes' and list_2[aa] == 'yes':\n",
    "        option1+=1;\n",
    "    else:\n",
    "        option2+=1;\n",
    "#if both lists are \"yes\", add 1 to option 1 - ANSWER\n",
    "#if both lists are NOT \"yes\", add 1 to option 2\n",
    "        \n",
    "print (option1)\n",
    "print (\"How many planets are not habitable?\")\n",
    "print (option2)\n",
    "print (\"\")\n",
    "    \n",
    "\n",
    "#PART 2 - exomoons around gas giants\n",
    "\n",
    "#Jovian planets\n",
    "list_3 = []\n",
    "for jj in range(len(list_exoplanet)):\n",
    "    if list_exoplanet[jj][4] == \"Jovian\":\n",
    "        list_3.append(\"yes\")\n",
    "    else:\n",
    "        list_3.append(\"no\")\n",
    "#if value in column 4 is \"Jovian\", return \"yes\"\n",
    "\n",
    "\n",
    "#planets farther than the goldilocks zone\n",
    "list_4 = []\n",
    "for jj in range(len(list_exoplanet)):\n",
    "    if list_exoplanet[jj][30] > list_exoplanet[jj][53]:\n",
    "        list_4.append(\"yes\")\n",
    "    else:\n",
    "        list_4.append(\"no\")\n",
    "#column 30 = planet's distance from star\n",
    "#cloumn 53 = max distance of habitable zone\n",
    "\n",
    "\n",
    "option3 = 0\n",
    "option4 = 0\n",
    "\n",
    "print (\"How many gas giants may have habitable exomoons?\")\n",
    "for aa in range(len(list_exoplanet)):\n",
    "    if list_3[aa] == 'yes' and list_4[aa] == 'yes':\n",
    "        option3+=1;\n",
    "    else:\n",
    "        option4+=1;\n",
    "#if both lists are \"yes\", add 1 to option 3 - ANSWER\n",
    "#if both lists are NOT \"yes\", add 1 to option 4\n",
    "        \n",
    "        \n",
    "print (option3)\n",
    "print (\"How many planets do not have habitable exomoons?\")\n",
    "print (option4)\n"
   ]
  },
  {
   "cell_type": "markdown",
   "metadata": {
    "collapsed": true
   },
   "source": [
    "<h2> Analysis: </h2>\n",
    "\n",
    "I used Planetary Habitability Laboratory's Exoplanet Catalogue to estimate the number of exoplanets that might have the conditions to harbor life either on their surface or on an exomoon in orbit around the planet. An exoplanet is a planet that orbits another star, and an exomoon is a moon around an exoplanet. In my project, I am estimating how many planets are capable of harboring life based on what we know about how life on Earth can survive. There could be many more ways that life could arise in the Universe, but we have no way of predicting where it could be besides using qualities of the only planet we know can harbor life: Earth. \n",
    "\n",
    "I began my estimation process by roughly calculating how many exoplanets might have surface conditions for life as we know it. I used two variables for this process: The estimated type of planet (whether the planet is dense and small enough to be terrestrial, or if its too big and must be gaseous), and the distance the planet is from its star, which can help determine the temperature of the surface. Planet type is directly given in this dataset. As for the distance from the star, I know that the planet needs to be a reasonable distance from its star for it to be the right temperature for liquid water to exist. A certain range in distance from the star, known as the \"Goldilocks Zone\" (also called the \"habitable zone\"), is where the temperature is just right for liquid water to exist on a planet. The Exoplanet Catalogue gives both the distance of the planet from the star, and the inner and outer ranges of the star's habitable zone. If the planet's distance from the star falls within this range, then liquid water could possibly exist on the surface of the planet. However, this doesn't matter unless the planet is rocky, because life as we know it needs to be on a rocky surface, not in a gas. The number of exoplanets that are both in the habitable zone and are rocky planets determines how many exoplanets I am estimating have a chance of being able to support life on their surfaces. I determined that <b> 47 planets might be able to harbor life on their surface. </b>\n",
    "\n",
    "However, we have theorized ways in which life can arise outside the habitable zone. We believe that life may exist on a few of the moons of Jupiter and possibly Saturn. These planets are large gas giants. The dataset includes two types of gaseous planets: \"Jovian\" and \"Neptunian\" planets. Jovian planets are the larger gaseous planets, similar in size to Jupiter and Saturn, so we are looking for these types of exoplanets now. The way these planets may harbor life, even though they are farther away from the planet than the habitable zone, is that the planet is almost certain to have a system of moons which will all be pulling on each other as well as being under the influence of the planet's extremely strong gravity. If these forces pull on the interior of a moon in different directions, it will cause the interior of the moon to heat up. This can create perfect temperatures for liquid water to exist and life to arise. To figure out how many Jovian gas giants may be able to harbor life-bearing exomoons, I just need to figure out how many exoplanets are both Jovian planets as well as farther from the star than the habitable zone. I found that <b>256 gas giants may have exomoons that might be able to harbor life. </b>\n",
    "\n",
    "This is an extremely hard question to accurately answer. My answers are for sure quite off from what the actual answer would be. The reality is that there are so many variables that determine how life can arise on a planet that no person can precisely calculate if there is life on a planet. It is essential to remember that I am estimating for Earth-like life, as there could be many other kinds of life that could arise in a different environment. Additionally, I am calculating how many exoplanets have the potential to have life, not the actual number of exoplanets that probably have life. For example, Mars is a rocky planet in the habitable zone around the sun, but it cannot support life as of now because its atmosphere is not dense enough for there to be enough air pressure for liquid water to exist, resulting from an eroding atmosphere because the planet lacks a protective magnetosphere. Life is both fragile and resilient; it can be very tricky to accruately predict where life may arise. But we can still make estimations when we consider some of the most essential factors for life ot exist. \n",
    "\n"
   ]
  },
  {
   "cell_type": "markdown",
   "metadata": {},
   "source": [
    "<h2>Answer:</h2>\n",
    "\n",
    "Of all the planets we have discovered, the surface of 47 planets might be habitable, and the exomoons in orbit around 256 exoplanets might be habitable."
   ]
  }
 ],
 "metadata": {
  "anaconda-cloud": {},
  "kernelspec": {
   "display_name": "Python [Root]",
   "language": "python",
   "name": "Python [Root]"
  },
  "language_info": {
   "codemirror_mode": {
    "name": "ipython",
    "version": 3
   },
   "file_extension": ".py",
   "mimetype": "text/x-python",
   "name": "python",
   "nbconvert_exporter": "python",
   "pygments_lexer": "ipython3",
   "version": "3.5.2"
  }
 },
 "nbformat": 4,
 "nbformat_minor": 0
}
