{
 "cells": [
  {
   "cell_type": "markdown",
   "metadata": {},
   "source": [
    "<h1> Lab 1: The Fremont Bridge"
   ]
  },
  {
   "cell_type": "markdown",
   "metadata": {},
   "source": [
    "Ben Douglass\n",
    "\n",
    "September 20, 2016\n",
    "\n",
    "Big Data, Period 8"
   ]
  },
  {
   "cell_type": "markdown",
   "metadata": {},
   "source": [
    "<h2> Part 1: Analyzing Pedestrian Crossings of the Fremont Bridge in September of 2015"
   ]
  },
  {
   "cell_type": "markdown",
   "metadata": {},
   "source": [
    "<h3> Code:"
   ]
  },
  {
   "cell_type": "code",
   "execution_count": 72,
   "metadata": {
    "collapsed": false
   },
   "outputs": [
    {
     "name": "stdout",
     "output_type": "stream",
     "text": [
      "Number of pedestrians each day on the west side: [1393, 1745, 1532, 1425, 826, 466, 1107, 1733, 2070, 1961, 1863, 1178, 648, 1615, 1795, 1782, 1160, 1461, 981, 712, 1824, 2190, 2270, 2086, 1314, 899, 895, 1907, 2097, 1992]\n",
      "\n",
      "Number of pedestrians each day on the east side: [1483, 1867, 1627, 1512, 770, 425, 898, 1932, 2243, 2069, 1898, 1013, 679, 1669, 1862, 1949, 1293, 1539, 853, 591, 1981, 2361, 2292, 2235, 1370, 869, 676, 1955, 2239, 2063]\n",
      "\n",
      "The median of the west side is 1573.5\n",
      "The mean of the west side is 1497.5666666666666\n",
      "The median of the east side is 1648.0\n",
      "The mean of the east side is 1540.4333333333334\n",
      "There is no unique mode for the west or east sidewalk of the Fremont Bridge\n",
      "\n",
      "Total number of pedestrians on the west side on Tuesdays: 7111\n",
      "Total number of pedestrians on the west side on Wednesdays: 7867\n",
      "Total number of pedestrians on the west side on Thursdays: 6739\n",
      "Total number of pedestrians on the west side on Fridays: 6063\n",
      "Total number of pedestrians on the west side on Saturdays: 3884\n",
      "Total number of pedestrians on the west side on Sundays: 2721\n",
      "Total number of pedestrians on the west side on Mondays: 6453\n",
      "\n",
      "Total number of pedestrians on the east side on Tuesdays: 7638\n",
      "Total number of pedestrians on the east side on Wednesdays: 8351\n",
      "Total number of pedestrians on the east side on Thursdays: 7224\n",
      "Total number of pedestrians on the east side on Fridays: 6319\n",
      "Total number of pedestrians on the east side on Saturdays: 3505\n",
      "Total number of pedestrians on the east side on Sundays: 2371\n",
      "Total number of pedestrians on the east side on Mondays: 6503\n"
     ]
    }
   ],
   "source": [
    "import statistics\n",
    "\n",
    "#open and save the file for reading\n",
    "data_file = open(\"FreBridge1.csv\", \"r\");\n",
    "#create an empty list to store the data\n",
    "data_list = [];\n",
    "#put all lines from the file into a list\n",
    "for ii in data_file:\n",
    "    data_list.append(ii);\n",
    "\n",
    "#remove the first element (column header)\n",
    "del data_list[0];\n",
    "#create empty lists for westbound and eastbound bikes\n",
    "west = [];\n",
    "east = [];    \n",
    "for jj in range(len(data_list)):\n",
    "    #make into a list of lists of just numbers\n",
    "    data_list[jj] = data_list[jj].split(\",\");\n",
    "    #add data to specific lists for west and east\n",
    "    west.append(int(data_list[jj][1]));\n",
    "    east.append(int(data_list[jj][2]));\n",
    "\n",
    "print(\"Number of pedestrians each day on the west side:\", west);\n",
    "print ();\n",
    "print(\"Number of pedestrians each day on the east side:\", east)\n",
    "print (); #make a space so the information looks nicer when printed\n",
    "print (\"The median of the west side is\", statistics.median(west))\n",
    "print (\"The mean of the west side is\", statistics.mean(west))\n",
    "#print (\"The mode is\", statistics.mode(west))\n",
    "print (\"The median of the east side is\", statistics.median(east))\n",
    "print (\"The mean of the east side is\", statistics.mean(east))\n",
    "#print (\"The mode is\", statistics.mode(east))\n",
    "print (\"There is no unique mode for the west or east sidewalk of the Fremont Bridge\")\n",
    "\n",
    "wtues = []\n",
    "wwed = []\n",
    "wthurs = []\n",
    "wfri = []\n",
    "wsat = []\n",
    "wsun = []\n",
    "wmon = []\n",
    "\n",
    "etues = []\n",
    "ewed = []\n",
    "ethurs = []\n",
    "efri = []\n",
    "esat = []\n",
    "esun = []\n",
    "emon = []\n",
    "\n",
    "for i in range (0, 28, 7):\n",
    "    #west list\n",
    "    wtues.append(west[i])\n",
    "    wwed.append(west[i+1])\n",
    "    wthurs.append(west[i+2])\n",
    "    wfri.append(west[i+3])\n",
    "    wsat.append(west[i+4])\n",
    "    wsun.append(west[i+5])\n",
    "    wmon.append(west[i+6])\n",
    "    \n",
    "for i in range (0, 28, 7):\n",
    "    #east list\n",
    "    etues.append(east[i])\n",
    "    ewed.append(east[i+1])\n",
    "    ethurs.append(east[i+2])\n",
    "    efri.append(east[i+3])\n",
    "    esat.append(east[i+4])\n",
    "    esun.append(east[i+5])\n",
    "    emon.append(east[i+6])   \n",
    "    \n",
    "    \n",
    "    \n",
    "print ( )\n",
    "#west side print\n",
    "print (\"Total number of pedestrians on the west side on Tuesdays:\", (wtues[0] + wtues[1] + wtues[2] + wtues[3]))\n",
    "print (\"Total number of pedestrians on the west side on Wednesdays:\", (wwed[0] + wwed[1] + wwed[2] + wwed[3]))\n",
    "print (\"Total number of pedestrians on the west side on Thursdays:\", (wthurs[0] + wthurs[1] + wthurs[2] + wthurs[3]))\n",
    "print (\"Total number of pedestrians on the west side on Fridays:\", (wfri[0] + wfri[1] + wfri[2] + wfri[3]))\n",
    "print (\"Total number of pedestrians on the west side on Saturdays:\", (wsat[0] + wsat[1] + wsat[2] + wsat[3]))\n",
    "print (\"Total number of pedestrians on the west side on Sundays:\", (wsun[0] + wsun[1] + wsun[2] + wsun[3]))\n",
    "print (\"Total number of pedestrians on the west side on Mondays:\", (wmon[0] + wmon[1] + wmon[2] + wmon[3]))\n",
    "\n",
    "print ( ) \n",
    "#east side print\n",
    "print (\"Total number of pedestrians on the east side on Tuesdays:\", (etues[0] + etues[1] + etues[2] + etues[3]))\n",
    "print (\"Total number of pedestrians on the east side on Wednesdays:\", (ewed[0] + ewed[1] + ewed[2] + ewed[3]))\n",
    "print (\"Total number of pedestrians on the east side on Thursdays:\", (ethurs[0] + ethurs[1] + ethurs[2] + ethurs[3]))\n",
    "print (\"Total number of pedestrians on the east side on Fridays:\", (efri[0] + efri[1] + efri[2] + efri[3]))\n",
    "print (\"Total number of pedestrians on the east side on Saturdays:\", (esat[0] + esat[1] + esat[2] + esat[3]))\n",
    "print (\"Total number of pedestrians on the east side on Sundays:\", (esun[0] + esun[1] + esun[2] + esun[3]))\n",
    "print (\"Total number of pedestrians on the east side on Mondays:\", (emon[0] + emon[1] + emon[2] + emon[3]))\n",
    "    \n",
    "    \n"
   ]
  },
  {
   "cell_type": "markdown",
   "metadata": {},
   "source": [
    "<h3> Analysis:"
   ]
  },
  {
   "cell_type": "markdown",
   "metadata": {},
   "source": [
    "The data shows how many pedestrians have crossed the bridge each day on both the east and west sides of the bridge. \n",
    "\n",
    "The median is the middle amount of pedestrians of all the amounts of pedestrians each day in September of 2015. The mean is the average amount of pedestrians crossing either side of the bridge each day in September of 2015. The mode is the most common number of pedestrians crossing either side of the bridge each day in September of 2015. Of these, the mean gives the most information because it includes all points of data, whereas median and mode just show a central part of the data.\n",
    "\n",
    "We can also figure out which day of the week generally has the most pedestrian traffic on each side of the bridge. For this, I kept it just to the first 4 days of the month to make the presentation of the data less complicated with different numbers of weekdays in a month. By adding up the first 4 days of each week in the month of September, we can tell that Wednesdays have the most pedestrians crossing the bridge on both sides. On the first four Wendesdays of September of 2015, 7,867 pedestrians crossed the bridge on the west side, and 8,351 pedestrians crossed the bridge on the east side. Both of these Wednesday values were the highest of any day of the week. We can conclude that according to this data, <b>Wednesdays are always the busiest day on the bridge. </b>"
   ]
  },
  {
   "cell_type": "markdown",
   "metadata": {},
   "source": [
    "<h2> Part 2: Predicting the Number of Bikes Crossing the Fremont Bridge on September 30, 2016"
   ]
  },
  {
   "cell_type": "markdown",
   "metadata": {},
   "source": [
    "<h3> Code:"
   ]
  },
  {
   "cell_type": "code",
   "execution_count": 66,
   "metadata": {
    "collapsed": false
   },
   "outputs": [
    {
     "name": "stdout",
     "output_type": "stream",
     "text": [
      "Mean of bicycles crossing the Fremont bridge from October 3, 2012 to August 31, 2016: 2784.421973407978\n",
      "\n",
      "The standard deviation of the data is 1392.6740964922988\n",
      "I am 68.26% confident that the number of bikes crossing the Fremont Bridge on September 30th, 2016 will be between 1391.7478769156792 and 4177.096069900277\n"
     ]
    },
    {
     "data": {
      "image/png": "[encoded data removed]",
      "text/plain": [
       "<matplotlib.figure.Figure at 0x1106114a8>"
      ]
     },
     "metadata": {},
     "output_type": "display_data"
    }
   ],
   "source": [
    "import statistics as st\n",
    "import matplotlib.pyplot as plt\n",
    "% matplotlib inline\n",
    "#open and save the second file for reading\n",
    "data_file2 = open(\"FreBridge2.csv\", \"r\");\n",
    "#create an empty list to store the data\n",
    "data_list2 = [];\n",
    "#put all lines from the file into a list\n",
    "for iii in data_file2:\n",
    "    data_list2.append(iii);\n",
    "    \n",
    "#remove the first element (column header)\n",
    "del data_list2[0];\n",
    "#create empty lists for westbound and eastbound bikes\n",
    "west2 = [];\n",
    "east2 = [];\n",
    "\n",
    "\n",
    "for jjj in range(len(data_list2)):\n",
    "    #make into a list of lists of just numbers\n",
    "    data_list2[jjj] = data_list2[jjj].split(\",\");\n",
    "    #add data to specific lists for west and east\n",
    "    west2.append(int(data_list2[jjj][1]));\n",
    "    east2.append(int(data_list2[jjj][2]));\n",
    "\n",
    "#David Kahn helped me with making the graph\n",
    "graph = [];  \n",
    "    \n",
    "for cc in range(len(west2)):\n",
    "    graph.append(int(west2[cc]) + int(east2[cc]))\n",
    "\n",
    "plt.hist(graph)\n",
    "plt.xlabel(\"Pedestrians Crossing in One Day\")\n",
    "plt.ylabel(\"Frequency\")\n",
    "plt.title(\"Fremont Bridge Crossings\")\n",
    "\n",
    "\n",
    "\n",
    "#help from Andrew Gladden with how to get stdev to work\n",
    "data_list3 = []\n",
    "    \n",
    "for ben in range(len(west2)):\n",
    "    standard1 = west2[ben];\n",
    "    standard2 = east2[ben];\n",
    "    standard3 = standard1 + standard2;\n",
    "    data_list3.append(standard3);\n",
    "stdev = st.stdev(data_list3) #standard deviation\n",
    "\n",
    "#calculate the mean + and - the standard deviation to show the values that are a standard deviation away \n",
    "min1 = (statistics.mean(west2) + statistics.mean(east2)) - stdev\n",
    "max1 = (statistics.mean(west2) + statistics.mean(east2)) + stdev\n",
    "\n",
    "    \n",
    "#find the mean of the east and west sides with the new data\n",
    "print (\"Mean of bicycles crossing the Fremont bridge from October 3, 2012 to August 31, 2016:\" , statistics.mean(west2) + statistics.mean(east2))\n",
    "print (\"\")\n",
    "\n",
    "#print the standard deviation information\n",
    "print (\"The standard deviation of the data is\",stdev)\n",
    "print (\"I am 68.26% confident that the number of bikes crossing the Fremont Bridge on September 30th, 2016 will be between\", min1, \"and\", max1)"
   ]
  },
  {
   "cell_type": "markdown",
   "metadata": {},
   "source": [
    "<h3> Analysis:"
   ]
  },
  {
   "cell_type": "markdown",
   "metadata": {
    "collapsed": true
   },
   "source": [
    "In part 2 of the lab, I am predicting how many bikes will cross the Fremont Bridge on September 30, 2016. To do this, I am using data showing the number of people who crossed the Fremont Bridge each day from October 3, 2012 to August 31, 2016. <b> I am 68.26% sure that the number of bikes crossing the bridge will be between 1,392 and 4,177 bikes. </b>\n",
    "\n",
    "To simplify this process, I am assuming that all the pedestrians crossing the Fremont Bridge are on bikes. \n",
    "\n",
    "I want to find a range that the number of bikes crossing the bridge on September 30, 2016 would likely be within, and also know how sure I am with what percent chance it has of happening. To do this I used the concept of a bell curve, where the data within one standard deviation of the mean value is 68.28% of all the data points. Based off the bell curve, I can predict that there is a 68.28% chance of the amount of bikes crossing the bridge to be within one standard deviation of the mean.\n",
    "\n",
    "The mean of the data is 2,784.4. The standard deviation of the data is 1,392.7, which is the distance from the mean on either side of the bell curve so that 68.28% of the data is within the range. This means that the endpoints of the range are the mean (2,784.4) + or - the standard deviation (1,392.7). These ended up being <b>1,392</b> and <b>4,177</b>, and I am <b> 68.28% confident </b> that the data point on any day will be in this range.\n",
    "\n",
    "I created a histogram graph with the x-axis being the number of bikes that crossed the bridge, and the y-axis being the frequency of days with a certain amount of bikes. The graph forms a bell curve. This makes sense in a histogram because the most common values will likely be found near the average value of the data (or the mean of the data), and the amount of times the number of bikes for a day recurs will decrease farther from the average/mean value of the data.\n",
    "\n",
    "It should be considered that the bell curve is right-skewed. This means that even thouh the number of people who bike across the bridge has gone up past 7,000, the predicted range of the value on September 30, 2016 will not be close to this. There were many fewer days with a number of bikers crossing the bridge in the 5,000's, 6,000's, and 7,000's compared to the number of days with bikers crossing the bridge in the 1,000's, 2,000's, 3,000's, and 4,000's (which was pretty common). This is why even though the range spanned from just a couple hundred to over 7000, the range in the central 68.28% of the data spanned from just 1,392 to 4,177, and the mean was 2,784.4. \n",
    "\n",
    "The mean being so skewed to one side of the range shows how the mean is the most important calculated number (versus median, mode, etc.) because it takes into account <u> all the numbers </u> rather than giving too much weight to the outliers."
   ]
  }
 ],
 "metadata": {
  "anaconda-cloud": {},
  "kernelspec": {
   "display_name": "Python [Root]",
   "language": "python",
   "name": "Python [Root]"
  },
  "language_info": {
   "codemirror_mode": {
    "name": "ipython",
    "version": 3
   },
   "file_extension": ".py",
   "mimetype": "text/x-python",
   "name": "python",
   "nbconvert_exporter": "python",
   "pygments_lexer": "ipython3",
   "version": "3.5.2"
  }
 },
 "nbformat": 4,
 "nbformat_minor": 0
}
