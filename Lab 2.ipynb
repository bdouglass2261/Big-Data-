{
 "cells": [
  {
   "cell_type": "markdown",
   "metadata": {
    "collapsed": false
   },
   "source": [
    "<h1> Occurence of Different Species of Birds in King County from 2009 to 2016"
   ]
  },
  {
   "cell_type": "markdown",
   "metadata": {},
   "source": [
    "Ben Douglass\n",
    "\n",
    "October 4, 2016\n",
    "\n",
    "Big Data, Period 8\n",
    "\n",
    "Lab 2"
   ]
  },
  {
   "cell_type": "markdown",
   "metadata": {},
   "source": [
    "<h2><u> Part 1: Pattern of Annual Occurence for Each Species of Bird"
   ]
  },
  {
   "cell_type": "markdown",
   "metadata": {},
   "source": [
    "<h3> Bramblings by Month:"
   ]
  },
  {
   "cell_type": "code",
   "execution_count": 14,
   "metadata": {
    "collapsed": false
   },
   "outputs": [
    {
     "data": {
      "text/plain": [
       "<matplotlib.text.Text at 0x110d29390>"
      ]
     },
     "execution_count": 14,
     "metadata": {},
     "output_type": "execute_result"
    },
    {
     "data": {
      "image/png": "[encoded data removed]",
      "text/plain": [
       "<matplotlib.figure.Figure at 0x110181c50>"
      ]
     },
     "metadata": {},
     "output_type": "display_data"
    }
   ],
   "source": [
    "\n",
    "#BRAMBLING FILE:\n",
    "import statistics\n",
    "import matplotlib.pyplot as plt\n",
    "%matplotlib inline\n",
    "#insert Brambling file\n",
    "file_brambling_dates  = open(\"Brambling_Dates.csv\", \"r\")\n",
    "#put brambling info in an empty list\n",
    "list_brambling_dates = []\n",
    "#put all lines from file into a list - need to put in only certain columns\n",
    "for aa in file_brambling_dates:\n",
    "    list_brambling_dates.append(aa)\n",
    "del list_brambling_dates[0]\n",
    "\n",
    "#Help from David in this for loop\n",
    "for bb in range(len(list_brambling_dates)):\n",
    "    list_brambling_dates[bb] = list_brambling_dates[bb].split(\",\")\n",
    "\n",
    "\n",
    "\n",
    "#James helped me with the for loop to organize the data by month\n",
    "January_Brambling = 0\n",
    "February_Brambling = 0\n",
    "March_Brambling = 0\n",
    "April_Brambling = 0\n",
    "May_Brambling = 0\n",
    "June_Brambling = 0\n",
    "July_Brambling = 0\n",
    "August_Brambling = 0\n",
    "September_Brambling = 0\n",
    "October_Brambling = 0\n",
    "November_Brambling = 0\n",
    "December_Brambling = 0\n",
    "\n",
    "for zz in range (len(list_brambling_dates)):\n",
    "    if list_brambling_dates[zz][0][0:2] == '1/':\n",
    "        January_Brambling += 1\n",
    "    elif list_brambling_dates[zz][0][0:1] == '2':\n",
    "        February_Brambling += 1\n",
    "    elif list_brambling_dates[zz][0][0:1] == '3':\n",
    "        March_Brambling += 1\n",
    "    elif list_brambling_dates[zz][0][0:1] == '4':\n",
    "        April_Brambling += 1\n",
    "    elif list_brambling_dates[zz][0][0:1] == '5':\n",
    "        May_Brambling += 1\n",
    "    elif list_brambling_dates[zz][0][0:1] == '6':\n",
    "        June_Brambling += 1\n",
    "    elif list_brambling_dates[zz][0][0:1] == '7':\n",
    "        July_Brambling += 1\n",
    "    elif list_brambling_dates[zz][0][0:1] == '8':\n",
    "        August_Brambling += 1\n",
    "    elif list_brambling_dates[zz][0][0:1] == '9':\n",
    "        September_Brambling += 1\n",
    "    elif list_brambling_dates[zz][0][0:2] == '10':\n",
    "        October_Brambling += 1\n",
    "    elif list_brambling_dates[zz][0][0:2] == '11':\n",
    "        November_Brambling += 1\n",
    "    elif list_brambling_dates[zz][0][0:2] == '12':\n",
    "        December_Brambling += 1\n",
    "    \n",
    "months_Brambling = [January_Brambling, February_Brambling, March_Brambling, April_Brambling,\n",
    "                   May_Brambling, June_Brambling, July_Brambling, August_Brambling,\n",
    "                   September_Brambling, October_Brambling, November_Brambling, December_Brambling]\n",
    "\n",
    "#list the names of months in a list to be called for the x axis of the bar graph.\n",
    "month_names = [\"1\", \"2\", \"3\", \"4\", \"5\", \"6\", \"7\", \"8\", \"9\", \"10\", \"11\", \"12\"]\n",
    "    \n",
    "\n",
    "plt.bar(month_names, months_Brambling, 1, color = \"darkgreen\")\n",
    "plt.xlabel(\"Month\")\n",
    "plt.ylabel(\"Number of Birds\")\n",
    "plt.title(\"Bramblings Spotted per month\")"
   ]
  },
  {
   "cell_type": "markdown",
   "metadata": {},
   "source": [
    "<h3> Anna's Hummingbirds by Month:"
   ]
  },
  {
   "cell_type": "code",
   "execution_count": 15,
   "metadata": {
    "collapsed": false
   },
   "outputs": [
    {
     "data": {
      "text/plain": [
       "<matplotlib.text.Text at 0x1113e1908>"
      ]
     },
     "execution_count": 15,
     "metadata": {},
     "output_type": "execute_result"
    },
    {
     "data": {
      "image/png": "[encoded data removed]",
      "text/plain": [
       "<matplotlib.figure.Figure at 0x1110ec860>"
      ]
     },
     "metadata": {},
     "output_type": "display_data"
    }
   ],
   "source": [
    "#ANNA'S HUMMINGBIRD FILE:\n",
    "import statistics\n",
    "import matplotlib.pyplot as plt\n",
    "%matplotlib inline\n",
    "#insert Brambling file\n",
    "file_AnnasHummingbird_dates  = open(\"AnnasHummingbird_Dates.csv\", \"r\")\n",
    "#put brambling info in an empty list\n",
    "list_AnnasHummingbird_dates = []\n",
    "#put all lines from file into a list - need to put in only certain columns\n",
    "for aa in file_AnnasHummingbird_dates:\n",
    "    list_AnnasHummingbird_dates.append(aa)\n",
    "del list_AnnasHummingbird_dates[0]\n",
    "\n",
    "for bb in range(len(list_AnnasHummingbird_dates)):\n",
    "    list_AnnasHummingbird_dates[bb] = list_AnnasHummingbird_dates[bb].split(\",\")\n",
    "\n",
    "\n",
    "January_AnnasHummingbird = 0\n",
    "February_AnnasHummingbird = 0\n",
    "March_AnnasHummingbird = 0\n",
    "April_AnnasHummingbird = 0\n",
    "May_AnnasHummingbird = 0\n",
    "June_AnnasHummingbird = 0\n",
    "July_AnnasHummingbird = 0\n",
    "August_AnnasHummingbird = 0\n",
    "September_AnnasHummingbird = 0\n",
    "October_AnnasHummingbird = 0\n",
    "November_AnnasHummingbird = 0\n",
    "December_AnnasHummingbird = 0\n",
    "\n",
    "for zz in range (len(list_AnnasHummingbird_dates)):\n",
    "    if list_AnnasHummingbird_dates[zz][0][0:2] == '1/':\n",
    "        January_AnnasHummingbird += 1\n",
    "    elif list_AnnasHummingbird_dates[zz][0][0:1] == '2':\n",
    "        February_AnnasHummingbird += 1\n",
    "    elif list_AnnasHummingbird_dates[zz][0][0:1] == '3':\n",
    "        March_AnnasHummingbird += 1\n",
    "    elif list_AnnasHummingbird_dates[zz][0][0:1] == '4':\n",
    "        April_AnnasHummingbird += 1\n",
    "    elif list_AnnasHummingbird_dates[zz][0][0:1] == '5':\n",
    "        May_AnnasHummingbird += 1\n",
    "    elif list_AnnasHummingbird_dates[zz][0][0:1] == '6':\n",
    "        June_AnnasHummingbird += 1\n",
    "    elif list_AnnasHummingbird_dates[zz][0][0:1] == '7':\n",
    "        July_AnnasHummingbird += 1\n",
    "    elif list_AnnasHummingbird_dates[zz][0][0:1] == '8':\n",
    "        August_AnnasHummingbird += 1\n",
    "    elif list_AnnasHummingbird_dates[zz][0][0:1] == '9':\n",
    "        September_AnnasHummingbird += 1\n",
    "    elif list_AnnasHummingbird_dates[zz][0][0:2] == '10':\n",
    "        October_AnnasHummingbird += 1\n",
    "    elif list_AnnasHummingbird_dates[zz][0][0:2] == '11':\n",
    "        November_AnnasHummingbird += 1\n",
    "    elif list_AnnasHummingbird_dates[zz][0][0:2] == '12':\n",
    "        December_AnnasHummingbird += 1\n",
    "    \n",
    "months_AnnasHummingbird = [January_AnnasHummingbird, February_AnnasHummingbird, March_AnnasHummingbird, April_AnnasHummingbird,\n",
    "                   May_AnnasHummingbird, June_AnnasHummingbird, July_AnnasHummingbird, August_AnnasHummingbird,\n",
    "                   September_AnnasHummingbird, October_AnnasHummingbird, November_AnnasHummingbird, December_AnnasHummingbird]\n",
    "\n",
    "#list the names of months in a list to be called for the x axis of the bar graph.\n",
    "month_names = [\"1\", \"2\", \"3\", \"4\", \"5\", \"6\", \"7\", \"8\", \"9\", \"10\", \"11\", \"12\"]\n",
    "    \n",
    "\n",
    "plt.bar(month_names, months_AnnasHummingbird, 1, color = \"darkgreen\")\n",
    "plt.xlabel(\"Month\")\n",
    "plt.ylabel(\"Number of Birds\")\n",
    "plt.title(\"Anna's Hummingbirds Spotted per month\")"
   ]
  },
  {
   "cell_type": "markdown",
   "metadata": {},
   "source": [
    "<h3> Blackswifts by Month:"
   ]
  },
  {
   "cell_type": "code",
   "execution_count": 17,
   "metadata": {
    "collapsed": false
   },
   "outputs": [
    {
     "data": {
      "text/plain": [
       "<matplotlib.text.Text at 0x1119beb70>"
      ]
     },
     "execution_count": 17,
     "metadata": {},
     "output_type": "execute_result"
    },
    {
     "data": {
      "image/png": "[encoded data removed]",
      "text/plain": [
       "<matplotlib.figure.Figure at 0x110e04908>"
      ]
     },
     "metadata": {},
     "output_type": "display_data"
    }
   ],
   "source": [
    "#BLACKSWIFT FILE:\n",
    "import statistics\n",
    "import matplotlib.pyplot as plt\n",
    "%matplotlib inline\n",
    "#insert Brambling file\n",
    "file_Blackswift_dates  = open(\"Blackswift_Dates.csv\", \"r\")\n",
    "#put brambling info in an empty list\n",
    "list_Blackswift_dates = []\n",
    "#put all lines from file into a list - need to put in only certain columns\n",
    "for aa in file_Blackswift_dates:\n",
    "    list_Blackswift_dates.append(aa)\n",
    "del list_Blackswift_dates[0]\n",
    "\n",
    "for bb in range(len(list_Blackswift_dates)):\n",
    "    list_Blackswift_dates[bb] = list_Blackswift_dates[bb].split(\",\")\n",
    "\n",
    "January_Blackswift = 0\n",
    "February_Blackswift = 0\n",
    "March_Blackswift = 0\n",
    "April_Blackswift = 0\n",
    "May_Blackswift = 0\n",
    "June_Blackswift = 0\n",
    "July_Blackswift = 0\n",
    "August_Blackswift = 0\n",
    "September_Blackswift = 0\n",
    "October_Blackswift = 0\n",
    "November_Blackswift = 0\n",
    "December_Blackswift = 0\n",
    "\n",
    "for zz in range (len(list_Blackswift_dates)):\n",
    "    if list_Blackswift_dates[zz][0][0:2] == '1/':\n",
    "        January_Blackswift += 1\n",
    "    elif list_Blackswift_dates[zz][0][0:1] == '2':\n",
    "        February_Blackswift += 1\n",
    "    elif list_Blackswift_dates[zz][0][0:1] == '3':\n",
    "        March_Blackswift += 1\n",
    "    elif list_Blackswift_dates[zz][0][0:1] == '4':\n",
    "        April_Blackswift += 1\n",
    "    elif list_Blackswift_dates[zz][0][0:1] == '5':\n",
    "        May_Blackswift += 1\n",
    "    elif list_Blackswift_dates[zz][0][0:1] == '6':\n",
    "        June_Blackswift += 1\n",
    "    elif list_Blackswift_dates[zz][0][0:1] == '7':\n",
    "        July_Blackswift += 1\n",
    "    elif list_Blackswift_dates[zz][0][0:1] == '8':\n",
    "        August_Blackswift += 1\n",
    "    elif list_Blackswift_dates[zz][0][0:1] == '9':\n",
    "        September_Blackswift += 1\n",
    "    elif list_Blackswift_dates[zz][0][0:2] == '10':\n",
    "        October_Blackswift += 1\n",
    "    elif list_Blackswift_dates[zz][0][0:2] == '11':\n",
    "        November_Blackswift += 1\n",
    "    elif list_Blackswift_dates[zz][0][0:2] == '12':\n",
    "        December_Blackswift += 1\n",
    "    \n",
    "months_Blackswift = [January_Blackswift, February_Blackswift, March_Blackswift, April_Blackswift,\n",
    "                   May_Blackswift, June_Blackswift, July_Blackswift, August_Blackswift,\n",
    "                   September_Blackswift, October_Blackswift, November_Blackswift, December_Blackswift]\n",
    "\n",
    "#list the names of months in a list to be called for the x axis of the bar graph.\n",
    "month_names = [\"1\", \"2\", \"3\", \"4\", \"5\", \"6\", \"7\", \"8\", \"9\", \"10\", \"11\", \"12\"]\n",
    "    \n",
    "\n",
    "plt.bar(month_names, months_Blackswift, 1, color = \"darkgreen\")\n",
    "plt.xlabel(\"Month\")\n",
    "plt.ylabel(\"Number of Birds\")\n",
    "plt.title(\"Blackswifts Spotted per month\")"
   ]
  },
  {
   "cell_type": "markdown",
   "metadata": {},
   "source": [
    "<h3> Harlequin Ducks by Month:"
   ]
  },
  {
   "cell_type": "code",
   "execution_count": 18,
   "metadata": {
    "collapsed": false
   },
   "outputs": [
    {
     "data": {
      "text/plain": [
       "<matplotlib.text.Text at 0x111b22cf8>"
      ]
     },
     "execution_count": 18,
     "metadata": {},
     "output_type": "execute_result"
    },
    {
     "data": {
      "image/png": "[encoded data removed]",
      "text/plain": [
       "<matplotlib.figure.Figure at 0x1117d0ef0>"
      ]
     },
     "metadata": {},
     "output_type": "display_data"
    }
   ],
   "source": [
    "#HARLEQUIN DUCK FILE:\n",
    "import statistics\n",
    "import matplotlib.pyplot as plt\n",
    "%matplotlib inline\n",
    "#insert Brambling file\n",
    "file_HarlequinDuck_dates  = open(\"HarlequinDuck_Dates.csv\", \"r\")\n",
    "#put brambling info in an empty list\n",
    "list_HarlequinDuck_dates = []\n",
    "#put all lines from file into a list - need to put in only certain columns\n",
    "for aa in file_HarlequinDuck_dates:\n",
    "    list_HarlequinDuck_dates.append(aa)\n",
    "del list_HarlequinDuck_dates[0]\n",
    "\n",
    "for bb in range(len(list_HarlequinDuck_dates)):\n",
    "    list_HarlequinDuck_dates[bb] = list_HarlequinDuck_dates[bb].split(\",\")\n",
    "\n",
    "January_HarlequinDuck = 0\n",
    "February_HarlequinDuck = 0\n",
    "March_HarlequinDuck = 0\n",
    "April_HarlequinDuck = 0\n",
    "May_HarlequinDuck = 0\n",
    "June_HarlequinDuck = 0\n",
    "July_HarlequinDuck = 0\n",
    "August_HarlequinDuck = 0\n",
    "September_HarlequinDuck = 0\n",
    "October_HarlequinDuck = 0\n",
    "November_HarlequinDuck = 0\n",
    "December_HarlequinDuck = 0\n",
    "\n",
    "for zz in range (len(list_HarlequinDuck_dates)):\n",
    "    if list_HarlequinDuck_dates[zz][0][0:2] == '1/':\n",
    "        January_HarlequinDuck += 1\n",
    "    elif list_HarlequinDuck_dates[zz][0][0:1] == '2':\n",
    "        February_HarlequinDuck += 1\n",
    "    elif list_HarlequinDuck_dates[zz][0][0:1] == '3':\n",
    "        March_HarlequinDuck += 1\n",
    "    elif list_HarlequinDuck_dates[zz][0][0:1] == '4':\n",
    "        April_HarlequinDuck += 1\n",
    "    elif list_HarlequinDuck_dates[zz][0][0:1] == '5':\n",
    "        May_HarlequinDuck += 1\n",
    "    elif list_HarlequinDuck_dates[zz][0][0:1] == '6':\n",
    "        June_HarlequinDuck += 1\n",
    "    elif list_HarlequinDuck_dates[zz][0][0:1] == '7':\n",
    "        July_HarlequinDuck += 1\n",
    "    elif list_HarlequinDuck_dates[zz][0][0:1] == '8':\n",
    "        August_HarlequinDuck += 1\n",
    "    elif list_HarlequinDuck_dates[zz][0][0:1] == '9':\n",
    "        September_HarlequinDuck += 1\n",
    "    elif list_HarlequinDuck_dates[zz][0][0:2] == '10':\n",
    "        October_HarlequinDuck += 1\n",
    "    elif list_HarlequinDuck_dates[zz][0][0:2] == '11':\n",
    "        November_HarlequinDuck += 1\n",
    "    elif list_HarlequinDuck_dates[zz][0][0:2] == '12':\n",
    "        December_HarlequinDuck += 1\n",
    "    \n",
    "months_HarlequinDuck = [January_HarlequinDuck, February_HarlequinDuck, March_HarlequinDuck, April_HarlequinDuck,\n",
    "                   May_HarlequinDuck, June_HarlequinDuck, July_HarlequinDuck, August_HarlequinDuck,\n",
    "                   September_HarlequinDuck, October_HarlequinDuck, November_HarlequinDuck, December_HarlequinDuck]\n",
    "\n",
    "#list the names of months in a list to be called for the x axis of the bar graph.\n",
    "month_names = [\"1\", \"2\", \"3\", \"4\", \"5\", \"6\", \"7\", \"8\", \"9\", \"10\", \"11\", \"12\"]\n",
    "    \n",
    "\n",
    "plt.bar(month_names, months_HarlequinDuck, 1, color = \"darkgreen\")\n",
    "plt.xlabel(\"Month\")\n",
    "plt.ylabel(\"Number of Birds\")\n",
    "plt.title(\"Harlequin Ducks Spotted per month\")"
   ]
  },
  {
   "cell_type": "markdown",
   "metadata": {},
   "source": [
    "<h3> Snowy Owls by Month:"
   ]
  },
  {
   "cell_type": "code",
   "execution_count": 19,
   "metadata": {
    "collapsed": false
   },
   "outputs": [
    {
     "data": {
      "text/plain": [
       "<matplotlib.text.Text at 0x111c84fd0>"
      ]
     },
     "execution_count": 19,
     "metadata": {},
     "output_type": "execute_result"
    },
    {
     "data": {
      "image/png": "[encoded data removed]",
      "text/plain": [
       "<matplotlib.figure.Figure at 0x111bc5128>"
      ]
     },
     "metadata": {},
     "output_type": "display_data"
    }
   ],
   "source": [
    "#SNOWY OWL FILE:\n",
    "import statistics\n",
    "import matplotlib.pyplot as plt\n",
    "%matplotlib inline\n",
    "#insert Brambling file\n",
    "file_SnowyOwl_dates  = open(\"SnowyOwl_Dates.csv\", \"r\")\n",
    "#put brambling info in an empty list\n",
    "list_SnowyOwl_dates = []\n",
    "#put all lines from file into a list - need to put in only certain columns\n",
    "for aa in file_SnowyOwl_dates:\n",
    "    list_SnowyOwl_dates.append(aa)\n",
    "del list_SnowyOwl_dates[0]\n",
    "\n",
    "for bb in range(len(list_SnowyOwl_dates)):\n",
    "    list_SnowyOwl_dates[bb] = list_SnowyOwl_dates[bb].split(\",\")\n",
    "\n",
    "January_SnowyOwl = 0\n",
    "February_SnowyOwl = 0\n",
    "March_SnowyOwl = 0\n",
    "April_SnowyOwl = 0\n",
    "May_SnowyOwl = 0\n",
    "June_SnowyOwl = 0\n",
    "July_SnowyOwl = 0\n",
    "August_SnowyOwl = 0\n",
    "September_SnowyOwl = 0\n",
    "October_SnowyOwl = 0\n",
    "November_SnowyOwl = 0\n",
    "December_SnowyOwl = 0\n",
    "\n",
    "for zz in range (len(list_SnowyOwl_dates)):\n",
    "    if list_SnowyOwl_dates[zz][0][0:2] == '1/':\n",
    "        January_SnowyOwl += 1\n",
    "    elif list_SnowyOwl_dates[zz][0][0:1] == '2':\n",
    "        February_SnowyOwl += 1\n",
    "    elif list_SnowyOwl_dates[zz][0][0:1] == '3':\n",
    "        March_SnowyOwl += 1\n",
    "    elif list_SnowyOwl_dates[zz][0][0:1] == '4':\n",
    "        April_SnowyOwl += 1\n",
    "    elif list_SnowyOwl_dates[zz][0][0:1] == '5':\n",
    "        May_SnowyOwl += 1\n",
    "    elif list_SnowyOwl_dates[zz][0][0:1] == '6':\n",
    "        June_SnowyOwl += 1\n",
    "    elif list_SnowyOwl_dates[zz][0][0:1] == '7':\n",
    "        July_SnowyOwl += 1\n",
    "    elif list_SnowyOwl_dates[zz][0][0:1] == '8':\n",
    "        August_SnowyOwl += 1\n",
    "    elif list_SnowyOwl_dates[zz][0][0:1] == '9':\n",
    "        September_SnowyOwl += 1\n",
    "    elif list_SnowyOwl_dates[zz][0][0:2] == '10':\n",
    "        October_SnowyOwl += 1\n",
    "    elif list_SnowyOwl_dates[zz][0][0:2] == '11':\n",
    "        November_SnowyOwl += 1\n",
    "    elif list_SnowyOwl_dates[zz][0][0:2] == '12':\n",
    "        December_SnowyOwl += 1\n",
    "    \n",
    "months_SnowyOwl = [January_SnowyOwl, February_SnowyOwl, March_SnowyOwl, April_SnowyOwl,\n",
    "                   May_SnowyOwl, June_SnowyOwl, July_SnowyOwl, August_SnowyOwl,\n",
    "                   September_SnowyOwl, October_SnowyOwl, November_SnowyOwl, December_SnowyOwl]\n",
    "\n",
    "#list the names of months in a list to be called for the x axis of the bar graph.\n",
    "month_names = [\"1\", \"2\", \"3\", \"4\", \"5\", \"6\", \"7\", \"8\", \"9\", \"10\", \"11\", \"12\"]\n",
    "    \n",
    "\n",
    "plt.bar(month_names, months_SnowyOwl, 1, color = \"darkgreen\")\n",
    "plt.xlabel(\"Month\")\n",
    "plt.ylabel(\"Number of Birds\")\n",
    "plt.title(\"Snowy Owls Spotted per month\")"
   ]
  },
  {
   "cell_type": "markdown",
   "metadata": {},
   "source": [
    "<h3> Lazuli Buntings by Month:"
   ]
  },
  {
   "cell_type": "code",
   "execution_count": 20,
   "metadata": {
    "collapsed": false
   },
   "outputs": [
    {
     "data": {
      "text/plain": [
       "<matplotlib.text.Text at 0x111f2ddd8>"
      ]
     },
     "execution_count": 20,
     "metadata": {},
     "output_type": "execute_result"
    },
    {
     "data": {
      "image/png": "[encoded data removed]",
      "text/plain": [
       "<matplotlib.figure.Figure at 0x111c79be0>"
      ]
     },
     "metadata": {},
     "output_type": "display_data"
    }
   ],
   "source": [
    "#LAZULI BUNTING FILE:\n",
    "import statistics\n",
    "import matplotlib.pyplot as plt\n",
    "%matplotlib inline\n",
    "#insert Brambling file\n",
    "file_LazuliBunting_dates  = open(\"LazuliBunting_Dates.csv\", \"r\")\n",
    "#put brambling info in an empty list\n",
    "list_LazuliBunting_dates = []\n",
    "#put all lines from file into a list - need to put in only certain columns\n",
    "for aa in file_LazuliBunting_dates:\n",
    "    list_LazuliBunting_dates.append(aa)\n",
    "del list_LazuliBunting_dates[0]\n",
    "\n",
    "for bb in range(len(list_LazuliBunting_dates)):\n",
    "    list_LazuliBunting_dates[bb] = list_LazuliBunting_dates[bb].split(\",\")\n",
    "\n",
    "January_LazuliBunting = 0\n",
    "February_LazuliBunting = 0\n",
    "March_LazuliBunting = 0\n",
    "April_LazuliBunting = 0\n",
    "May_LazuliBunting = 0\n",
    "June_LazuliBunting = 0\n",
    "July_LazuliBunting = 0\n",
    "August_LazuliBunting = 0\n",
    "September_LazuliBunting = 0\n",
    "October_LazuliBunting = 0\n",
    "November_LazuliBunting = 0\n",
    "December_LazuliBunting = 0\n",
    "\n",
    "for zz in range (len(list_LazuliBunting_dates)):\n",
    "    if list_LazuliBunting_dates[zz][0][0:2] == '1/':\n",
    "        January_LazuliBunting += 1\n",
    "    elif list_LazuliBunting_dates[zz][0][0:1] == '2':\n",
    "        February_LazuliBunting += 1\n",
    "    elif list_LazuliBunting_dates[zz][0][0:1] == '3':\n",
    "        March_LazuliBunting += 1\n",
    "    elif list_LazuliBunting_dates[zz][0][0:1] == '4':\n",
    "        April_LazuliBunting += 1\n",
    "    elif list_LazuliBunting_dates[zz][0][0:1] == '5':\n",
    "        May_LazuliBunting += 1\n",
    "    elif list_LazuliBunting_dates[zz][0][0:1] == '6':\n",
    "        June_LazuliBunting += 1\n",
    "    elif list_LazuliBunting_dates[zz][0][0:1] == '7':\n",
    "        July_LazuliBunting += 1\n",
    "    elif list_LazuliBunting_dates[zz][0][0:1] == '8':\n",
    "        August_LazuliBunting += 1\n",
    "    elif list_LazuliBunting_dates[zz][0][0:1] == '9':\n",
    "        September_LazuliBunting += 1\n",
    "    elif list_LazuliBunting_dates[zz][0][0:2] == '10':\n",
    "        October_LazuliBunting += 1\n",
    "    elif list_LazuliBunting_dates[zz][0][0:2] == '11':\n",
    "        November_LazuliBunting += 1\n",
    "    elif list_LazuliBunting_dates[zz][0][0:2] == '12':\n",
    "        December_LazuliBunting += 1\n",
    "    \n",
    "months_LazuliBunting = [January_LazuliBunting, February_LazuliBunting, March_LazuliBunting, April_LazuliBunting,\n",
    "                   May_LazuliBunting, June_LazuliBunting, July_LazuliBunting, August_LazuliBunting,\n",
    "                   September_LazuliBunting, October_LazuliBunting, November_LazuliBunting, December_LazuliBunting]\n",
    "\n",
    "#list the names of months in a list to be called for the x axis of the bar graph.\n",
    "month_names = [\"1\", \"2\", \"3\", \"4\", \"5\", \"6\", \"7\", \"8\", \"9\", \"10\", \"11\", \"12\"]\n",
    "    \n",
    "\n",
    "plt.bar(month_names, months_LazuliBunting, 1, color = \"darkgreen\")\n",
    "plt.xlabel(\"Month\")\n",
    "plt.ylabel(\"Number of Birds\")\n",
    "plt.title(\"Lazuli Buntings Spotted per month\")"
   ]
  },
  {
   "cell_type": "markdown",
   "metadata": {},
   "source": [
    "<h2><u> Part 1 Analysis"
   ]
  },
  {
   "cell_type": "markdown",
   "metadata": {},
   "source": [
    "I have been given data from citizen scientists bird watchers in King County from a website called eBird. This data gives a full description of bird sightings with information such as location, time, and date. In Part 1, I am organizing the data by month to show during which parts of the year each species of bird is most active in King County. Each graph shows how many of each species of bird are spotted per month according to the data. \n",
    "\n",
    "Though this accurately represents the data from citizen scientists who are active users of eBird, the citizen scientists may have some flaws in how they submitted their data. This could include multiple people sighting the same bird, or even simply mis-identifying the species of the bird in the case of less experienced birders. Relying on average people to give accurate scientific data does not always yield very accurate results.\n",
    "\n",
    "<h3> Brambling: </h3>\n",
    "\n",
    "Based off the eBird data, Bramblings are present in King country during February, March, and the beginning of April. In other words, the data is showing that Bramblings are most active in late winter and early spring. \n",
    "\n",
    "However, there is an oddity about the pattern of Bambling sightings. They were only spotted over a period of couple months in 2015. Assuming that the birders of eBird are accurate and have always been familiar with this species, this means that there was some reason that Bramblings were only in King County a couple months in late winter in 2015. This was likely because some Bramblings migrated to the King County area and something went wrong for them or they left. The birds could have left or died off because King county has a lot of unfamiliar urban development. \n",
    "\n",
    "If any more Bramblings come to King County in the coming months and years, the same pattern may occur, where there's a spike of bird sightings that cease within months due to the birds leaving or dying off in the environment of King County. \n",
    "\n",
    "<h3> Anna's HummingBird: </h3>\n",
    "\n",
    "Based off the eBird data, Anna's Hummingbirds are present in King County year-round. Though there are many of these birds present all year, they are more prevelent in King County during January through May, which means that these birds are most active during the winter and spring.\n",
    "\n",
    "The number of sightings of these birds is much higher than any of the other birds. There are a substantial 28,679 recorded sightings in the eBird database from January 2009 to August 2016.\n",
    "\n",
    "It should be noted that the graphs are the collective number of birds recorded in each month for all years. This means that except at the turn of the year, the graph will likely have higher amounts for the months that have already passed than for months that have not passed in the year yet. In this data, the months of September, October, November, and December only have 7 years of data, while the months of January through August had 8 years of data. However, this is not substantial enough to change which months have the highest number of Anna's Hummingbirds because the number of these birds in January through May is substantially higher than the later months in the year. \n",
    "\n",
    "<h3> Blackswift: </h3>\n",
    "\n",
    "Based off the eBird data, Blackswifts are present in King County during the months of May through September, but among these months they are most prevalent during July. In other words, these birds are most prevalent during late spring and summer. \n",
    "\n",
    "This data is more accurate because it spans from Jnauray of 2009 through August of 2016. However, because the time span is so long, it should be noted that there were relatively few of these birds spotted, as there were only 415 spottings during that long duration of time. \n",
    "\n",
    "The pattern of the birds only being present in one season strongly suggests that these birds have yearly migration patterns, and that King County is a location they migrate to in the summer. Most likely, this pattern of migration will continue into the following years. \n",
    "\n",
    "<h3> Harlequin Duck: </h3>\n",
    "\n",
    "According to the eBird data, Harlequin Ducks are present in King County year-round, however they are hardly present in the summer months and are most present in January. In the spring and fall, there are a moderate amount of Harlequin ducks. \n",
    "\n",
    "This data has more consistency because it spans from January of 2009 through August of 2016. However, it again should be noted that the number of spottings in September-December only have 7 years of data, while the other months earlier in the year have 8 years of data. However, this would probably not make that big of a difference in the conlusion, as the pattern would not be disrupted if these months had an expected number of additional sightings. \n",
    "\n",
    "Over about 7 and a half years, there were 1007 recorded spotttings of Harlequin Ducks. This is not very many, but there is a greater prevelance of Harlequin Ducks than Blackswifts.\n",
    "\n",
    "<h3> Snowy Owl: </h3>\n",
    "\n",
    "According to the eBird data, Snowy Owls are only prevalent in the winter, and a bit in the late fall. They are most prevalent in December and January. \n",
    "\n",
    "The data for Snowy Owls is not as consistent due to it only spanning from late 2011 through early 2013, which is only 2 winters. This is interesting because there was something that caused these birds to come to King County, and it worked for the Snowy Owls for two years, but then they stopped comming back. While the Snowy Owls were present, there were not many of them. Over the two winters, there were 127 sightings. This is still a decent amount because of how little time these spottings were over. \n",
    "\n",
    "<h3> Lazuli Bunting: </h3>\n",
    "\n",
    "According to the eBird data, Lazuli Buntings are present from the months of May through August (and an insignificant amount in September). Tha majority of the birds are spotted in May and June. In other words, the birds are present in late spring and throughout the summer. \n",
    "\n",
    "Lazuli Buntings have been spotted from early 2009 through August of 2016. This shows that the pattern of occurence of these birds in the summer is very consistent, over a span of 8 years. With 774 spottings over 8 summers, these birds are not very common to spot. However, they are not super rare either. \n",
    "\n",
    "These birds likely migrate to other locations for the fall and winter, so they can stay in a warm climate. \n",
    "\n",
    "\n",
    "<h3> Closing Analysis </h3>\n",
    "\n",
    "If I were to repeat my methods of calculating my data with more depth, I may consider separating the graphs out by year as well to establish whether these patterns are for sure repetitive each year. Because a lot of these birds migrate, it would be interesting to find locations in other parts of the world where these birds are present in the opposite seasons. This would give more information on the behavior of these birds. I also think it would be good to factor in the known behavior of each species of bird. This could give some insight to whether they tend to be out at night when people are not looking for them, whether they tend to be active during warmer or cooler times, or any other bahavioral factors that would affect when, where, and how often each species of bird is spotted. Additionally, some of these birds may have been spotted twice. It might be a good idea to more carefully analyze the excel data and make educated guesses on which birds may have been spotted twice at similar times, which would skew the data. This could be done by watching for birds spotted around the same time in the very similar locations. \n",
    "\n",
    "\n",
    " "
   ]
  },
  {
   "cell_type": "markdown",
   "metadata": {},
   "source": [
    "<h2><u> Part 2: Time of Day of Birds Spotted"
   ]
  },
  {
   "cell_type": "markdown",
   "metadata": {},
   "source": [
    "<h3> Bramblings by Hour"
   ]
  },
  {
   "cell_type": "code",
   "execution_count": 13,
   "metadata": {
    "collapsed": false
   },
   "outputs": [
    {
     "data": {
      "text/plain": [
       "<matplotlib.text.Text at 0x110b42048>"
      ]
     },
     "execution_count": 13,
     "metadata": {},
     "output_type": "execute_result"
    },
    {
     "data": {
      "image/png": "[encoded data removed]",
      "text/plain": [
       "<matplotlib.figure.Figure at 0x1109eaef0>"
      ]
     },
     "metadata": {},
     "output_type": "display_data"
    }
   ],
   "source": [
    "#Brambling Time of Day\n",
    "import statistics\n",
    "import matplotlib.pyplot as plt\n",
    "%matplotlib inline\n",
    "#insert file\n",
    "file_Brambling_Times = open(\"Brambling_Times.csv\", \"r\")\n",
    "#Put the file into an empty list\n",
    "list_Brambling_Times = []\n",
    "for aa in file_Brambling_Times:\n",
    "    list_Brambling_Times.append(aa)\n",
    "del list_Brambling_Times[0]\n",
    "\n",
    "#create variables to hold value for each time of day\n",
    "One_Brambling = 0\n",
    "Two_Brambling = 0\n",
    "Three_Brambling = 0\n",
    "Four_Brambling = 0\n",
    "Five_Brambling = 0\n",
    "Six_Brambling = 0\n",
    "Seven_Brambling = 0\n",
    "Eight_Brambling = 0\n",
    "Nine_Brambling = 0\n",
    "Ten_Brambling = 0\n",
    "Eleven_Brambling = 0\n",
    "Twelve_Brambling = 0\n",
    "Thirteen_Brambling = 0\n",
    "Fourteen_Brambling = 0\n",
    "Fifteen_Brambling = 0\n",
    "Sixteen_Brambling = 0\n",
    "Seventeen_Brambling = 0\n",
    "Eighteen_Brambling = 0\n",
    "Nineteen_Brambling = 0\n",
    "Twenty_Brambling = 0\n",
    "Twentyone_Brambling = 0\n",
    "Twentytwo_Brambling = 0\n",
    "Twentythree_Brambling = 0\n",
    "Twentyfour_Brambling = 0\n",
    "\n",
    "#iterate these variables for time of day through the data list\n",
    "for zz in range (len(list_Brambling_Times)):\n",
    "    if list_Brambling_Times[zz][0:2] == '1:':\n",
    "        One_Brambling += 1\n",
    "    elif list_Brambling_Times[zz][0:2] == '2:':\n",
    "        Two_Brambling += 1\n",
    "    elif list_Brambling_Times[zz][0:2] == '3:':\n",
    "        Three_Brambling += 1\n",
    "    elif list_Brambling_Times[zz][0:2] == '4:':\n",
    "        Four_Brambling += 1\n",
    "    elif list_Brambling_Times[zz][0:2] == '5:':\n",
    "        Five_Brambling += 1\n",
    "    elif list_Brambling_Times[zz][0:2] == '6:':\n",
    "        Six_Brambling += 1\n",
    "    elif list_Brambling_Times[zz][0:2] == '7:':\n",
    "        Seven_Brambling += 1\n",
    "    elif list_Brambling_Times[zz][0:2] == '8:':\n",
    "        Eight_Brambling += 1\n",
    "    elif list_Brambling_Times[zz][0:2] == '9:':\n",
    "        Nine_Brambling += 1\n",
    "    elif list_Brambling_Times[zz][0:2] == '10':\n",
    "        Ten_Brambling += 1\n",
    "    elif list_Brambling_Times[zz][0:2] == '11':\n",
    "        Eleven_Brambling += 1\n",
    "    elif list_Brambling_Times[zz][0:2] == '12':\n",
    "        Twelve_Brambling += 1\n",
    "    elif list_Brambling_Times[zz][0:2] == '13':\n",
    "        Thirteen_Brambling += 1\n",
    "    elif list_Brambling_Times[zz][0:2] == '14':\n",
    "        Fourteen_Brambling += 1\n",
    "    elif list_Brambling_Times[zz][0:2] == '15':\n",
    "        Fifteen_Brambling += 1\n",
    "    elif list_Brambling_Times[zz][0:2] == '16:':\n",
    "        Sixteen_Brambling += 1\n",
    "    elif list_Brambling_Times[zz][0:2] == '17':\n",
    "        Seventeen_Brambling += 1\n",
    "    elif list_Brambling_Times[zz][0:2] == '18':\n",
    "        Eighteen_Brambling += 1\n",
    "    elif list_Brambling_Times[zz][0:2] == '19':\n",
    "        Nineteen_Brambling += 1\n",
    "    elif list_Brambling_Times[zz][0:2] == '20':\n",
    "        Twenty_Brambling += 1\n",
    "    elif list_Brambling_Times[zz][0:2] == '21':\n",
    "        Twentyone_Brambling += 1\n",
    "    elif list_Brambling_Times[zz][0:2] == '22':\n",
    "        Twentytwo_Brambling += 1\n",
    "    elif list_Brambling_Times[zz][0:2] == '23':\n",
    "        Twentythree_Brambling += 1\n",
    "    elif list_Brambling_Times[zz][0:2] == '24':\n",
    "        Twentyfour_Brambling += 1\n",
    "        \n",
    "       \n",
    "TimeOfDay_Brambling = [One_Brambling, Two_Brambling, Three_Brambling, Four_Brambling, Five_Brambling, Six_Brambling, Seven_Brambling,\n",
    "            Eight_Brambling, Nine_Brambling, Ten_Brambling, Eleven_Brambling, Twelve_Brambling, Thirteen_Brambling, \n",
    "            Fourteen_Brambling, Fifteen_Brambling, Sixteen_Brambling, Seventeen_Brambling, Eighteen_Brambling, Nineteen_Brambling, \n",
    "            Twenty_Brambling, Twentyone_Brambling, Twentytwo_Brambling, Twentythree_Brambling, Twentyfour_Brambling]\n",
    "\n",
    "\n",
    "xaxis = [\"1\", \"2\", \"3\", \"4\", \"5\", \"6\", \"7\", \"8\", \"9\", \"10\", \"11\", \"12\", \"13\", \n",
    "         \"14\", \"15\", \"16\", \"17\", \"18\", \"19\", \"20\", \"21\", \"22\", \"23\", \"24\"]\n",
    "\n",
    "plt.bar(xaxis, TimeOfDay_Brambling, 1, color = \"blue\")\n",
    "plt.xlabel(\"Time of Day\")\n",
    "plt.ylabel(\"Number of Birds\")\n",
    "plt.title(\"Bramblings Spotted per Hour of Day\")\n",
    "\n"
   ]
  },
  {
   "cell_type": "markdown",
   "metadata": {},
   "source": [
    "<h3> Anna's Hummingbirds by Hour"
   ]
  },
  {
   "cell_type": "code",
   "execution_count": 2,
   "metadata": {
    "collapsed": false
   },
   "outputs": [
    {
     "data": {
      "text/plain": [
       "<matplotlib.text.Text at 0x10d138748>"
      ]
     },
     "execution_count": 2,
     "metadata": {},
     "output_type": "execute_result"
    },
    {
     "data": {
      "image/png": "[encoded data removed]",
      "text/plain": [
       "<matplotlib.figure.Figure at 0x10a630f28>"
      ]
     },
     "metadata": {},
     "output_type": "display_data"
    }
   ],
   "source": [
    "#Anna's Hummingbird time of day\n",
    "import statistics\n",
    "import matplotlib.pyplot as plt\n",
    "%matplotlib inline\n",
    "#insert file\n",
    "file_AnnasHummingbird_Times = open(\"AnnasHummingbird_Times.csv\", \"r\")\n",
    "#Put the file into an empty list\n",
    "list_AnnasHummingbird_Times = []\n",
    "for aa in file_AnnasHummingbird_Times:\n",
    "    list_AnnasHummingbird_Times.append(aa)\n",
    "del list_AnnasHummingbird_Times[0]\n",
    "\n",
    "#create variables to hold value for each time of day\n",
    "One_AnnasHummingbird = 0\n",
    "Two_AnnasHummingbird = 0\n",
    "Three_AnnasHummingbird = 0\n",
    "Four_AnnasHummingbird = 0\n",
    "Five_AnnasHummingbird = 0\n",
    "Six_AnnasHummingbird = 0\n",
    "Seven_AnnasHummingbird = 0\n",
    "Eight_AnnasHummingbird = 0\n",
    "Nine_AnnasHummingbird = 0\n",
    "Ten_AnnasHummingbird = 0\n",
    "Eleven_AnnasHummingbird = 0\n",
    "Twelve_AnnasHummingbird = 0\n",
    "Thirteen_AnnasHummingbird = 0\n",
    "Fourteen_AnnasHummingbird = 0\n",
    "Fifteen_AnnasHummingbird = 0\n",
    "Sixteen_AnnasHummingbird = 0\n",
    "Seventeen_AnnasHummingbird = 0\n",
    "Eighteen_AnnasHummingbird = 0\n",
    "Nineteen_AnnasHummingbird = 0\n",
    "Twenty_AnnasHummingbird = 0\n",
    "Twentyone_AnnasHummingbird = 0\n",
    "Twentytwo_AnnasHummingbird = 0\n",
    "Twentythree_AnnasHummingbird = 0\n",
    "Twentyfour_AnnasHummingbird = 0\n",
    "\n",
    "#iterate these variables for time of day through the data list\n",
    "for zz in range (len(list_AnnasHummingbird_Times)):\n",
    "    if list_AnnasHummingbird_Times[zz][0:2] == '1:':\n",
    "        One_AnnasHummingbird += 1\n",
    "    elif list_AnnasHummingbird_Times[zz][0:2] == '2:':\n",
    "        Two_AnnasHummingbird += 1\n",
    "    elif list_AnnasHummingbird_Times[zz][0:2] == '3:':\n",
    "        Three_AnnasHummingbird += 1\n",
    "    elif list_AnnasHummingbird_Times[zz][0:2] == '4:':\n",
    "        Four_AnnasHummingbird += 1\n",
    "    elif list_AnnasHummingbird_Times[zz][0:2] == '5:':\n",
    "        Five_AnnasHummingbird += 1\n",
    "    elif list_AnnasHummingbird_Times[zz][0:2] == '6:':\n",
    "        Six_AnnasHummingbird += 1\n",
    "    elif list_AnnasHummingbird_Times[zz][0:2] == '7:':\n",
    "        Seven_AnnasHummingbird += 1\n",
    "    elif list_AnnasHummingbird_Times[zz][0:2] == '8:':\n",
    "        Eight_AnnasHummingbird += 1\n",
    "    elif list_AnnasHummingbird_Times[zz][0:2] == '9:':\n",
    "        Nine_AnnasHummingbird += 1\n",
    "    elif list_AnnasHummingbird_Times[zz][0:2] == '10':\n",
    "        Ten_AnnasHummingbird += 1\n",
    "    elif list_AnnasHummingbird_Times[zz][0:2] == '11':\n",
    "        Eleven_AnnasHummingbird += 1\n",
    "    elif list_AnnasHummingbird_Times[zz][0:2] == '12':\n",
    "        Twelve_AnnasHummingbird += 1\n",
    "    elif list_AnnasHummingbird_Times[zz][0:2] == '13':\n",
    "        Thirteen_AnnasHummingbird += 1\n",
    "    elif list_AnnasHummingbird_Times[zz][0:2] == '14':\n",
    "        Fourteen_AnnasHummingbird += 1\n",
    "    elif list_AnnasHummingbird_Times[zz][0:2] == '15':\n",
    "        Fifteen_AnnasHummingbird += 1\n",
    "    elif list_AnnasHummingbird_Times[zz][0:2] == '16:':\n",
    "        Sixteen_AnnasHummingbird += 1\n",
    "    elif list_AnnasHummingbird_Times[zz][0:2] == '17':\n",
    "        Seventeen_AnnasHummingbird += 1\n",
    "    elif list_AnnasHummingbird_Times[zz][0:2] == '18':\n",
    "        Eighteen_AnnasHummingbird += 1\n",
    "    elif list_AnnasHummingbird_Times[zz][0:2] == '19':\n",
    "        Nineteen_AnnasHummingbird += 1\n",
    "    elif list_AnnasHummingbird_Times[zz][0:2] == '20':\n",
    "        Twenty_AnnasHummingbird += 1\n",
    "    elif list_AnnasHummingbird_Times[zz][0:2] == '21':\n",
    "        Twentyone_AnnasHummingbird += 1\n",
    "    elif list_AnnasHummingbird_Times[zz][0:2] == '22':\n",
    "        Twentytwo_AnnasHummingbird += 1\n",
    "    elif list_AnnasHummingbird_Times[zz][0:2] == '23':\n",
    "        Twentythree_AnnasHummingbird += 1\n",
    "    elif list_AnnasHummingbird_Times[zz][0:2] == '24':\n",
    "        Twentyfour_AnnasHummingbird += 1\n",
    "        \n",
    "       \n",
    "TimeOfDay_AnnasHummingbird = [One_AnnasHummingbird, Two_AnnasHummingbird, Three_AnnasHummingbird, Four_AnnasHummingbird, Five_AnnasHummingbird, Six_AnnasHummingbird, Seven_AnnasHummingbird,\n",
    "            Eight_AnnasHummingbird, Nine_AnnasHummingbird, Ten_AnnasHummingbird, Eleven_AnnasHummingbird, Twelve_AnnasHummingbird, Thirteen_AnnasHummingbird, \n",
    "            Fourteen_AnnasHummingbird, Fifteen_AnnasHummingbird, Sixteen_AnnasHummingbird, Seventeen_AnnasHummingbird, Eighteen_AnnasHummingbird, Nineteen_AnnasHummingbird, \n",
    "            Twenty_AnnasHummingbird, Twentyone_AnnasHummingbird, Twentytwo_AnnasHummingbird, Twentythree_AnnasHummingbird, Twentyfour_AnnasHummingbird]\n",
    "\n",
    "\n",
    "xaxis = [\"1\", \"2\", \"3\", \"4\", \"5\", \"6\", \"7\", \"8\", \"9\", \"10\", \"11\", \"12\", \"13\", \n",
    "         \"14\", \"15\", \"16\", \"17\", \"18\", \"19\", \"20\", \"21\", \"22\", \"23\", \"24\"]\n",
    "\n",
    "plt.bar(xaxis, TimeOfDay_AnnasHummingbird, 1, color = \"blue\")\n",
    "plt.xlabel(\"Time of Day\")\n",
    "plt.ylabel(\"Number of Birds\")\n",
    "plt.title(\"Annas Hummingbirds Spotted per Hour of Day\")\n",
    "\n"
   ]
  },
  {
   "cell_type": "markdown",
   "metadata": {},
   "source": [
    "<h3> Blackswifts by Hour"
   ]
  },
  {
   "cell_type": "code",
   "execution_count": 3,
   "metadata": {
    "collapsed": false
   },
   "outputs": [
    {
     "data": {
      "text/plain": [
       "<matplotlib.text.Text at 0x10fbce550>"
      ]
     },
     "execution_count": 3,
     "metadata": {},
     "output_type": "execute_result"
    },
    {
     "data": {
      "image/png": "[encoded data removed]",
      "text/plain": [
       "<matplotlib.figure.Figure at 0x10993e668>"
      ]
     },
     "metadata": {},
     "output_type": "display_data"
    }
   ],
   "source": [
    "#Blackswift Time of Day\n",
    "import statistics\n",
    "import matplotlib.pyplot as plt\n",
    "%matplotlib inline\n",
    "#insert file\n",
    "file_Blackswift_Times = open(\"Blackswift_Times.csv\", \"r\")\n",
    "#Put the file into an empty list\n",
    "list_Blackswift_Times = []\n",
    "for aa in file_Blackswift_Times:\n",
    "    list_Blackswift_Times.append(aa)\n",
    "del list_Blackswift_Times[0]\n",
    "\n",
    "#create variables to hold value for each time of day\n",
    "One_Blackswift = 0\n",
    "Two_Blackswift = 0\n",
    "Three_Blackswift = 0\n",
    "Four_Blackswift = 0\n",
    "Five_Blackswift = 0\n",
    "Six_Blackswift = 0\n",
    "Seven_Blackswift = 0\n",
    "Eight_Blackswift = 0\n",
    "Nine_Blackswift = 0\n",
    "Ten_Blackswift = 0\n",
    "Eleven_Blackswift = 0\n",
    "Twelve_Blackswift = 0\n",
    "Thirteen_Blackswift = 0\n",
    "Fourteen_Blackswift = 0\n",
    "Fifteen_Blackswift = 0\n",
    "Sixteen_Blackswift = 0\n",
    "Seventeen_Blackswift = 0\n",
    "Eighteen_Blackswift = 0\n",
    "Nineteen_Blackswift = 0\n",
    "Twenty_Blackswift = 0\n",
    "Twentyone_Blackswift = 0\n",
    "Twentytwo_Blackswift = 0\n",
    "Twentythree_Blackswift = 0\n",
    "Twentyfour_Blackswift = 0\n",
    "\n",
    "#iterate these variables for time of day through the data list\n",
    "for zz in range (len(list_Blackswift_Times)):\n",
    "    if list_Blackswift_Times[zz][0:2] == '1:':\n",
    "        One_Blackswift += 1\n",
    "    elif list_Blackswift_Times[zz][0:2] == '2:':\n",
    "        Two_Blackswift += 1\n",
    "    elif list_Blackswift_Times[zz][0:2] == '3:':\n",
    "        Three_Blackswift += 1\n",
    "    elif list_Blackswift_Times[zz][0:2] == '4:':\n",
    "        Four_Blackswift += 1\n",
    "    elif list_Blackswift_Times[zz][0:2] == '5:':\n",
    "        Five_Blackswift += 1\n",
    "    elif list_Blackswift_Times[zz][0:2] == '6:':\n",
    "        Six_Blackswift += 1\n",
    "    elif list_Blackswift_Times[zz][0:2] == '7:':\n",
    "        Seven_Blackswift += 1\n",
    "    elif list_Blackswift_Times[zz][0:2] == '8:':\n",
    "        Eight_Blackswift += 1\n",
    "    elif list_Blackswift_Times[zz][0:2] == '9:':\n",
    "        Nine_Blackswift += 1\n",
    "    elif list_Blackswift_Times[zz][0:2] == '10':\n",
    "        Ten_Blackswift += 1\n",
    "    elif list_Blackswift_Times[zz][0:2] == '11':\n",
    "        Eleven_Blackswift += 1\n",
    "    elif list_Blackswift_Times[zz][0:2] == '12':\n",
    "        Twelve_Blackswift += 1\n",
    "    elif list_Blackswift_Times[zz][0:2] == '13':\n",
    "        Thirteen_Blackswift += 1\n",
    "    elif list_Blackswift_Times[zz][0:2] == '14':\n",
    "        Fourteen_Blackswift += 1\n",
    "    elif list_Blackswift_Times[zz][0:2] == '15':\n",
    "        Fifteen_Blackswift += 1\n",
    "    elif list_Blackswift_Times[zz][0:2] == '16:':\n",
    "        Sixteen_Blackswift += 1\n",
    "    elif list_Blackswift_Times[zz][0:2] == '17':\n",
    "        Seventeen_Blackswift += 1\n",
    "    elif list_Blackswift_Times[zz][0:2] == '18':\n",
    "        Eighteen_Blackswift += 1\n",
    "    elif list_Blackswift_Times[zz][0:2] == '19':\n",
    "        Nineteen_Blackswift += 1\n",
    "    elif list_Blackswift_Times[zz][0:2] == '20':\n",
    "        Twenty_Blackswift += 1\n",
    "    elif list_Blackswift_Times[zz][0:2] == '21':\n",
    "        Twentyone_Blackswift += 1\n",
    "    elif list_Blackswift_Times[zz][0:2] == '22':\n",
    "        Twentytwo_Blackswift += 1\n",
    "    elif list_Blackswift_Times[zz][0:2] == '23':\n",
    "        Twentythree_Blackswift += 1\n",
    "    elif list_Blackswift_Times[zz][0:2] == '24':\n",
    "        Twentyfour_Blackswift += 1\n",
    "        \n",
    "       \n",
    "TimeOfDay_Blackswift = [One_Blackswift, Two_Blackswift, Three_Blackswift, Four_Blackswift, Five_Blackswift, Six_Blackswift, Seven_Blackswift,\n",
    "            Eight_Blackswift, Nine_Blackswift, Ten_Blackswift, Eleven_Blackswift, Twelve_Blackswift, Thirteen_Blackswift, \n",
    "            Fourteen_Blackswift, Fifteen_Blackswift, Sixteen_Blackswift, Seventeen_Blackswift, Eighteen_Blackswift, Nineteen_Blackswift, \n",
    "            Twenty_Blackswift, Twentyone_Blackswift, Twentytwo_Blackswift, Twentythree_Blackswift, Twentyfour_Blackswift]\n",
    "\n",
    "\n",
    "xaxis = [\"1\", \"2\", \"3\", \"4\", \"5\", \"6\", \"7\", \"8\", \"9\", \"10\", \"11\", \"12\", \"13\", \n",
    "         \"14\", \"15\", \"16\", \"17\", \"18\", \"19\", \"20\", \"21\", \"22\", \"23\", \"24\"]\n",
    "\n",
    "plt.bar(xaxis, TimeOfDay_Blackswift, 1, color = \"blue\")\n",
    "plt.xlabel(\"Time of Day\")\n",
    "plt.ylabel(\"Number of Birds\")\n",
    "plt.title(\"Blackswifts Spotted per Hour of Day\")"
   ]
  },
  {
   "cell_type": "markdown",
   "metadata": {},
   "source": [
    "<h3> Harlequin Ducks by Hour"
   ]
  },
  {
   "cell_type": "code",
   "execution_count": 6,
   "metadata": {
    "collapsed": false
   },
   "outputs": [
    {
     "data": {
      "text/plain": [
       "<matplotlib.text.Text at 0x10feaeda0>"
      ]
     },
     "execution_count": 6,
     "metadata": {},
     "output_type": "execute_result"
    },
    {
     "data": {
      "image/png": "[encoded data removed]",
      "text/plain": [
       "<matplotlib.figure.Figure at 0x10fc8bda0>"
      ]
     },
     "metadata": {},
     "output_type": "display_data"
    }
   ],
   "source": [
    "#Harlequin Duck Time of Day\n",
    "import statistics\n",
    "import matplotlib.pyplot as plt\n",
    "%matplotlib inline\n",
    "#insert file\n",
    "file_Harlequinduck_Times = open(\"Harlequinduck_Times.csv\", \"r\")\n",
    "#Put the file into an empty list\n",
    "list_Harlequinduck_Times = []\n",
    "for aa in file_Harlequinduck_Times:\n",
    "    list_Harlequinduck_Times.append(aa)\n",
    "del list_Harlequinduck_Times[0]\n",
    "\n",
    "#create variables to hold value for each time of day\n",
    "One_Harlequinduck = 0\n",
    "Two_Harlequinduck = 0\n",
    "Three_Harlequinduck = 0\n",
    "Four_Harlequinduck = 0\n",
    "Five_Harlequinduck = 0\n",
    "Six_Harlequinduck = 0\n",
    "Seven_Harlequinduck = 0\n",
    "Eight_Harlequinduck = 0\n",
    "Nine_Harlequinduck = 0\n",
    "Ten_Harlequinduck = 0\n",
    "Eleven_Harlequinduck = 0\n",
    "Twelve_Harlequinduck = 0\n",
    "Thirteen_Harlequinduck = 0\n",
    "Fourteen_Harlequinduck = 0\n",
    "Fifteen_Harlequinduck = 0\n",
    "Sixteen_Harlequinduck = 0\n",
    "Seventeen_Harlequinduck = 0\n",
    "Eighteen_Harlequinduck = 0\n",
    "Nineteen_Harlequinduck = 0\n",
    "Twenty_Harlequinduck = 0\n",
    "Twentyone_Harlequinduck = 0\n",
    "Twentytwo_Harlequinduck = 0\n",
    "Twentythree_Harlequinduck = 0\n",
    "Twentyfour_Harlequinduck = 0\n",
    "\n",
    "#iterate these variables for time of day through the data list\n",
    "for zz in range (len(list_Harlequinduck_Times)):\n",
    "    if list_Harlequinduck_Times[zz][0:2] == '1:':\n",
    "        One_Harlequinduck += 1\n",
    "    elif list_Harlequinduck_Times[zz][0:2] == '2:':\n",
    "        Two_Harlequinduck += 1\n",
    "    elif list_Harlequinduck_Times[zz][0:2] == '3:':\n",
    "        Three_Harlequinduck += 1\n",
    "    elif list_Harlequinduck_Times[zz][0:2] == '4:':\n",
    "        Four_Harlequinduck += 1\n",
    "    elif list_Harlequinduck_Times[zz][0:2] == '5:':\n",
    "        Five_Harlequinduck += 1\n",
    "    elif list_Harlequinduck_Times[zz][0:2] == '6:':\n",
    "        Six_Harlequinduck += 1\n",
    "    elif list_Harlequinduck_Times[zz][0:2] == '7:':\n",
    "        Seven_Harlequinduck += 1\n",
    "    elif list_Harlequinduck_Times[zz][0:2] == '8:':\n",
    "        Eight_Harlequinduck += 1\n",
    "    elif list_Harlequinduck_Times[zz][0:2] == '9:':\n",
    "        Nine_Harlequinduck += 1\n",
    "    elif list_Harlequinduck_Times[zz][0:2] == '10':\n",
    "        Ten_Harlequinduck += 1\n",
    "    elif list_Harlequinduck_Times[zz][0:2] == '11':\n",
    "        Eleven_Harlequinduck += 1\n",
    "    elif list_Harlequinduck_Times[zz][0:2] == '12':\n",
    "        Twelve_Harlequinduck += 1\n",
    "    elif list_Harlequinduck_Times[zz][0:2] == '13':\n",
    "        Thirteen_Harlequinduck += 1\n",
    "    elif list_Harlequinduck_Times[zz][0:2] == '14':\n",
    "        Fourteen_Harlequinduck += 1\n",
    "    elif list_Harlequinduck_Times[zz][0:2] == '15':\n",
    "        Fifteen_Harlequinduck += 1\n",
    "    elif list_Harlequinduck_Times[zz][0:2] == '16:':\n",
    "        Sixteen_Harlequinduck += 1\n",
    "    elif list_Harlequinduck_Times[zz][0:2] == '17':\n",
    "        Seventeen_Harlequinduck += 1\n",
    "    elif list_Harlequinduck_Times[zz][0:2] == '18':\n",
    "        Eighteen_Harlequinduck += 1\n",
    "    elif list_Harlequinduck_Times[zz][0:2] == '19':\n",
    "        Nineteen_Harlequinduck += 1\n",
    "    elif list_Harlequinduck_Times[zz][0:2] == '20':\n",
    "        Twenty_Harlequinduck += 1\n",
    "    elif list_Harlequinduck_Times[zz][0:2] == '21':\n",
    "        Twentyone_Harlequinduck += 1\n",
    "    elif list_Harlequinduck_Times[zz][0:2] == '22':\n",
    "        Twentytwo_Harlequinduck += 1\n",
    "    elif list_Harlequinduck_Times[zz][0:2] == '23':\n",
    "        Twentythree_Harlequinduck += 1\n",
    "    elif list_Harlequinduck_Times[zz][0:2] == '24':\n",
    "        Twentyfour_Harlequinduck += 1\n",
    "        \n",
    "       \n",
    "TimeOfDay_Harlequinduck = [One_Harlequinduck, Two_Harlequinduck, Three_Harlequinduck, Four_Harlequinduck, Five_Harlequinduck, Six_Harlequinduck, Seven_Harlequinduck,\n",
    "            Eight_Harlequinduck, Nine_Harlequinduck, Ten_Harlequinduck, Eleven_Harlequinduck, Twelve_Harlequinduck, Thirteen_Harlequinduck, \n",
    "            Fourteen_Harlequinduck, Fifteen_Harlequinduck, Sixteen_Harlequinduck, Seventeen_Harlequinduck, Eighteen_Harlequinduck, Nineteen_Harlequinduck, \n",
    "            Twenty_Harlequinduck, Twentyone_Harlequinduck, Twentytwo_Harlequinduck, Twentythree_Harlequinduck, Twentyfour_Harlequinduck]\n",
    "\n",
    "\n",
    "xaxis = [\"1\", \"2\", \"3\", \"4\", \"5\", \"6\", \"7\", \"8\", \"9\", \"10\", \"11\", \"12\", \"13\", \n",
    "         \"14\", \"15\", \"16\", \"17\", \"18\", \"19\", \"20\", \"21\", \"22\", \"23\", \"24\"]\n",
    "\n",
    "plt.bar(xaxis, TimeOfDay_Harlequinduck, 1, color = \"blue\")\n",
    "plt.xlabel(\"Time of Day\")\n",
    "plt.ylabel(\"Number of Birds\")\n",
    "plt.title(\"Harlequin Ducks Spotted per Hour of Day\")\n",
    "\n"
   ]
  },
  {
   "cell_type": "markdown",
   "metadata": {},
   "source": [
    "<h3> Snow Owls by Hour"
   ]
  },
  {
   "cell_type": "code",
   "execution_count": 8,
   "metadata": {
    "collapsed": false
   },
   "outputs": [
    {
     "data": {
      "text/plain": [
       "<matplotlib.text.Text at 0x1101ac940>"
      ]
     },
     "execution_count": 8,
     "metadata": {},
     "output_type": "execute_result"
    },
    {
     "data": {
      "image/png": "[encoded data removed]",
      "text/plain": [
       "<matplotlib.figure.Figure at 0x10fca11d0>"
      ]
     },
     "metadata": {},
     "output_type": "display_data"
    }
   ],
   "source": [
    "#Snowy Owl Time of Day\n",
    "import statistics\n",
    "import matplotlib.pyplot as plt\n",
    "%matplotlib inline\n",
    "#insert file\n",
    "file_SnowyOwl_Times = open(\"SnowyOwl_Times.csv\", \"r\")\n",
    "#Put the file into an empty list\n",
    "list_SnowyOwl_Times = []\n",
    "for aa in file_SnowyOwl_Times:\n",
    "    list_SnowyOwl_Times.append(aa)\n",
    "del list_SnowyOwl_Times[0]\n",
    "\n",
    "#create variables to hold value for each time of day\n",
    "One_SnowyOwl = 0\n",
    "Two_SnowyOwl = 0\n",
    "Three_SnowyOwl = 0\n",
    "Four_SnowyOwl = 0\n",
    "Five_SnowyOwl = 0\n",
    "Six_SnowyOwl = 0\n",
    "Seven_SnowyOwl = 0\n",
    "Eight_SnowyOwl = 0\n",
    "Nine_SnowyOwl = 0\n",
    "Ten_SnowyOwl = 0\n",
    "Eleven_SnowyOwl = 0\n",
    "Twelve_SnowyOwl = 0\n",
    "Thirteen_SnowyOwl = 0\n",
    "Fourteen_SnowyOwl = 0\n",
    "Fifteen_SnowyOwl = 0\n",
    "Sixteen_SnowyOwl = 0\n",
    "Seventeen_SnowyOwl = 0\n",
    "Eighteen_SnowyOwl = 0\n",
    "Nineteen_SnowyOwl = 0\n",
    "Twenty_SnowyOwl = 0\n",
    "Twentyone_SnowyOwl = 0\n",
    "Twentytwo_SnowyOwl = 0\n",
    "Twentythree_SnowyOwl = 0\n",
    "Twentyfour_SnowyOwl = 0\n",
    "\n",
    "#iterate these variables for time of day through the data list\n",
    "for zz in range (len(list_SnowyOwl_Times)):\n",
    "    if list_SnowyOwl_Times[zz][0:2] == '1:':\n",
    "        One_SnowyOwl += 1\n",
    "    elif list_SnowyOwl_Times[zz][0:2] == '2:':\n",
    "        Two_SnowyOwl += 1\n",
    "    elif list_SnowyOwl_Times[zz][0:2] == '3:':\n",
    "        Three_SnowyOwl += 1\n",
    "    elif list_SnowyOwl_Times[zz][0:2] == '4:':\n",
    "        Four_SnowyOwl += 1\n",
    "    elif list_SnowyOwl_Times[zz][0:2] == '5:':\n",
    "        Five_SnowyOwl += 1\n",
    "    elif list_SnowyOwl_Times[zz][0:2] == '6:':\n",
    "        Six_SnowyOwl += 1\n",
    "    elif list_SnowyOwl_Times[zz][0:2] == '7:':\n",
    "        Seven_SnowyOwl += 1\n",
    "    elif list_SnowyOwl_Times[zz][0:2] == '8:':\n",
    "        Eight_SnowyOwl += 1\n",
    "    elif list_SnowyOwl_Times[zz][0:2] == '9:':\n",
    "        Nine_SnowyOwl += 1\n",
    "    elif list_SnowyOwl_Times[zz][0:2] == '10':\n",
    "        Ten_SnowyOwl += 1\n",
    "    elif list_SnowyOwl_Times[zz][0:2] == '11':\n",
    "        Eleven_SnowyOwl += 1\n",
    "    elif list_SnowyOwl_Times[zz][0:2] == '12':\n",
    "        Twelve_SnowyOwl += 1\n",
    "    elif list_SnowyOwl_Times[zz][0:2] == '13':\n",
    "        Thirteen_SnowyOwl += 1\n",
    "    elif list_SnowyOwl_Times[zz][0:2] == '14':\n",
    "        Fourteen_SnowyOwl += 1\n",
    "    elif list_SnowyOwl_Times[zz][0:2] == '15':\n",
    "        Fifteen_SnowyOwl += 1\n",
    "    elif list_SnowyOwl_Times[zz][0:2] == '16:':\n",
    "        Sixteen_SnowyOwl += 1\n",
    "    elif list_SnowyOwl_Times[zz][0:2] == '17':\n",
    "        Seventeen_SnowyOwl += 1\n",
    "    elif list_SnowyOwl_Times[zz][0:2] == '18':\n",
    "        Eighteen_SnowyOwl += 1\n",
    "    elif list_SnowyOwl_Times[zz][0:2] == '19':\n",
    "        Nineteen_SnowyOwl += 1\n",
    "    elif list_SnowyOwl_Times[zz][0:2] == '20':\n",
    "        Twenty_SnowyOwl += 1\n",
    "    elif list_SnowyOwl_Times[zz][0:2] == '21':\n",
    "        Twentyone_SnowyOwl += 1\n",
    "    elif list_SnowyOwl_Times[zz][0:2] == '22':\n",
    "        Twentytwo_SnowyOwl += 1\n",
    "    elif list_SnowyOwl_Times[zz][0:2] == '23':\n",
    "        Twentythree_SnowyOwl += 1\n",
    "    elif list_SnowyOwl_Times[zz][0:2] == '24':\n",
    "        Twentyfour_SnowyOwl += 1\n",
    "        \n",
    "       \n",
    "TimeOfDay_SnowyOwl = [One_SnowyOwl, Two_SnowyOwl, Three_SnowyOwl, Four_SnowyOwl, Five_SnowyOwl, Six_SnowyOwl, Seven_SnowyOwl,\n",
    "            Eight_SnowyOwl, Nine_SnowyOwl, Ten_SnowyOwl, Eleven_SnowyOwl, Twelve_SnowyOwl, Thirteen_SnowyOwl, \n",
    "            Fourteen_SnowyOwl, Fifteen_SnowyOwl, Sixteen_SnowyOwl, Seventeen_SnowyOwl, Eighteen_SnowyOwl, Nineteen_SnowyOwl, \n",
    "            Twenty_SnowyOwl, Twentyone_SnowyOwl, Twentytwo_SnowyOwl, Twentythree_SnowyOwl, Twentyfour_SnowyOwl]\n",
    "\n",
    "\n",
    "xaxis = [\"1\", \"2\", \"3\", \"4\", \"5\", \"6\", \"7\", \"8\", \"9\", \"10\", \"11\", \"12\", \"13\", \n",
    "         \"14\", \"15\", \"16\", \"17\", \"18\", \"19\", \"20\", \"21\", \"22\", \"23\", \"24\"]\n",
    "\n",
    "#xaxis = [\"1am\", \"2am\", \"3am\", \"4am\", \"5am\", \"6am\", \"7am\", \"8am\", \"9am\", \"10am\", \"11am\", \"12am\", \n",
    "#        \"1pm\", \"2pm\", \"3pm\", \"4pm\", \"5pm\", \"6pm\", \"7pm\", \"8pm\", \"9pm\", \"10pm\", \"11pm\", \"12pm\"]\n",
    "\n",
    "plt.bar(xaxis, TimeOfDay_SnowyOwl, 1, color = \"blue\")\n",
    "plt.xlabel(\"Time of Day\")\n",
    "plt.ylabel(\"Number of Birds\")\n",
    "plt.title(\"Snowy Owls Spotted per Hour of Day\")\n",
    "\n",
    "\n"
   ]
  },
  {
   "cell_type": "markdown",
   "metadata": {},
   "source": [
    "<h3> Lazuli Buntings by Hour"
   ]
  },
  {
   "cell_type": "code",
   "execution_count": 9,
   "metadata": {
    "collapsed": false
   },
   "outputs": [
    {
     "data": {
      "text/plain": [
       "<matplotlib.text.Text at 0x110128a90>"
      ]
     },
     "execution_count": 9,
     "metadata": {},
     "output_type": "execute_result"
    },
    {
     "data": {
      "image/png": "[encoded data removed]",
      "text/plain": [
       "<matplotlib.figure.Figure at 0x10fc98da0>"
      ]
     },
     "metadata": {},
     "output_type": "display_data"
    }
   ],
   "source": [
    "#Lazuli Bunting Time of Day\n",
    "import statistics\n",
    "import matplotlib.pyplot as plt\n",
    "%matplotlib inline\n",
    "#insert file\n",
    "file_LazuliBunting_Times = open(\"LazuliBunting_Times.csv\", \"r\")\n",
    "#Put the file into an empty list\n",
    "list_LazuliBunting_Times = []\n",
    "for aa in file_LazuliBunting_Times:\n",
    "    list_LazuliBunting_Times.append(aa)\n",
    "del list_LazuliBunting_Times[0]\n",
    "\n",
    "#create variables to hold value for each time of day\n",
    "One_LazuliBunting = 0\n",
    "Two_LazuliBunting = 0\n",
    "Three_LazuliBunting = 0\n",
    "Four_LazuliBunting = 0\n",
    "Five_LazuliBunting = 0\n",
    "Six_LazuliBunting = 0\n",
    "Seven_LazuliBunting = 0\n",
    "Eight_LazuliBunting = 0\n",
    "Nine_LazuliBunting = 0\n",
    "Ten_LazuliBunting = 0\n",
    "Eleven_LazuliBunting = 0\n",
    "Twelve_LazuliBunting = 0\n",
    "Thirteen_LazuliBunting = 0\n",
    "Fourteen_LazuliBunting = 0\n",
    "Fifteen_LazuliBunting = 0\n",
    "Sixteen_LazuliBunting = 0\n",
    "Seventeen_LazuliBunting = 0\n",
    "Eighteen_LazuliBunting = 0\n",
    "Nineteen_LazuliBunting = 0\n",
    "Twenty_LazuliBunting = 0\n",
    "Twentyone_LazuliBunting = 0\n",
    "Twentytwo_LazuliBunting = 0\n",
    "Twentythree_LazuliBunting = 0\n",
    "Twentyfour_LazuliBunting = 0\n",
    "\n",
    "#iterate these variables for time of day through the data list\n",
    "for zz in range (len(list_LazuliBunting_Times)):\n",
    "    if list_LazuliBunting_Times[zz][0:2] == '1:':\n",
    "        One_LazuliBunting += 1\n",
    "    elif list_LazuliBunting_Times[zz][0:2] == '2:':\n",
    "        Two_LazuliBunting += 1\n",
    "    elif list_LazuliBunting_Times[zz][0:2] == '3:':\n",
    "        Three_LazuliBunting += 1\n",
    "    elif list_LazuliBunting_Times[zz][0:2] == '4:':\n",
    "        Four_LazuliBunting += 1\n",
    "    elif list_LazuliBunting_Times[zz][0:2] == '5:':\n",
    "        Five_LazuliBunting += 1\n",
    "    elif list_LazuliBunting_Times[zz][0:2] == '6:':\n",
    "        Six_LazuliBunting += 1\n",
    "    elif list_LazuliBunting_Times[zz][0:2] == '7:':\n",
    "        Seven_LazuliBunting += 1\n",
    "    elif list_LazuliBunting_Times[zz][0:2] == '8:':\n",
    "        Eight_LazuliBunting += 1\n",
    "    elif list_LazuliBunting_Times[zz][0:2] == '9:':\n",
    "        Nine_LazuliBunting += 1\n",
    "    elif list_LazuliBunting_Times[zz][0:2] == '10':\n",
    "        Ten_LazuliBunting += 1\n",
    "    elif list_LazuliBunting_Times[zz][0:2] == '11':\n",
    "        Eleven_LazuliBunting += 1\n",
    "    elif list_LazuliBunting_Times[zz][0:2] == '12':\n",
    "        Twelve_LazuliBunting += 1\n",
    "    elif list_LazuliBunting_Times[zz][0:2] == '13':\n",
    "        Thirteen_LazuliBunting += 1\n",
    "    elif list_LazuliBunting_Times[zz][0:2] == '14':\n",
    "        Fourteen_LazuliBunting += 1\n",
    "    elif list_LazuliBunting_Times[zz][0:2] == '15':\n",
    "        Fifteen_LazuliBunting += 1\n",
    "    elif list_LazuliBunting_Times[zz][0:2] == '16:':\n",
    "        Sixteen_LazuliBunting += 1\n",
    "    elif list_LazuliBunting_Times[zz][0:2] == '17':\n",
    "        Seventeen_LazuliBunting += 1\n",
    "    elif list_LazuliBunting_Times[zz][0:2] == '18':\n",
    "        Eighteen_LazuliBunting += 1\n",
    "    elif list_LazuliBunting_Times[zz][0:2] == '19':\n",
    "        Nineteen_LazuliBunting += 1\n",
    "    elif list_LazuliBunting_Times[zz][0:2] == '20':\n",
    "        Twenty_LazuliBunting += 1\n",
    "    elif list_LazuliBunting_Times[zz][0:2] == '21':\n",
    "        Twentyone_LazuliBunting += 1\n",
    "    elif list_LazuliBunting_Times[zz][0:2] == '22':\n",
    "        Twentytwo_LazuliBunting += 1\n",
    "    elif list_LazuliBunting_Times[zz][0:2] == '23':\n",
    "        Twentythree_LazuliBunting += 1\n",
    "    elif list_LazuliBunting_Times[zz][0:2] == '24':\n",
    "        Twentyfour_LazuliBunting += 1\n",
    "        \n",
    "       \n",
    "TimeOfDay_LazuliBunting = [One_LazuliBunting, Two_LazuliBunting, Three_LazuliBunting, Four_LazuliBunting, Five_LazuliBunting, Six_LazuliBunting, Seven_LazuliBunting,\n",
    "            Eight_LazuliBunting, Nine_LazuliBunting, Ten_LazuliBunting, Eleven_LazuliBunting, Twelve_LazuliBunting, Thirteen_LazuliBunting, \n",
    "            Fourteen_LazuliBunting, Fifteen_LazuliBunting, Sixteen_LazuliBunting, Seventeen_LazuliBunting, Eighteen_LazuliBunting, Nineteen_LazuliBunting, \n",
    "            Twenty_LazuliBunting, Twentyone_LazuliBunting, Twentytwo_LazuliBunting, Twentythree_LazuliBunting, Twentyfour_LazuliBunting]\n",
    "\n",
    "\n",
    "xaxis = [\"1\", \"2\", \"3\", \"4\", \"5\", \"6\", \"7\", \"8\", \"9\", \"10\", \"11\", \"12\", \"13\", \n",
    "         \"14\", \"15\", \"16\", \"17\", \"18\", \"19\", \"20\", \"21\", \"22\", \"23\", \"24\"]\n",
    "\n",
    "#xaxis = [\"1am\", \"2am\", \"3am\", \"4am\", \"5am\", \"6am\", \"7am\", \"8am\", \"9am\", \"10am\", \"11am\", \"12am\", \n",
    "#        \"1pm\", \"2pm\", \"3pm\", \"4pm\", \"5pm\", \"6pm\", \"7pm\", \"8pm\", \"9pm\", \"10pm\", \"11pm\", \"12pm\"]\n",
    "\n",
    "plt.bar(xaxis, TimeOfDay_LazuliBunting, 1, color = \"blue\")\n",
    "plt.xlabel(\"Time of Day\")\n",
    "plt.ylabel(\"Number of Birds\")\n",
    "plt.title(\"Lazuli Buntings Spotted per Hour of Day\")\n",
    "\n"
   ]
  },
  {
   "cell_type": "markdown",
   "metadata": {},
   "source": [
    "<h2><u> Part 2 Analysis"
   ]
  },
  {
   "cell_type": "markdown",
   "metadata": {
    "collapsed": true
   },
   "source": [
    "I am determining at what time of day each of the 6 species of birds are most active in King County based on data from citizen scientists recorded in eBird. The bar graphs indicate how many birds were spotted each hour of the day. \n",
    "\n",
    "It should be noted that people are only out looking for these birds during the day. At night it is much harder to spot birds and to tell what species they are. Additionally, we can expect few people even attempting to watch for birds during the night. There were some sightings during the night, but they were scarce. This doesn't necessarily mean that the birds are not often active at night. \n",
    "\n",
    "\n",
    "<h3> Brambling: </h3>\n",
    "\n",
    "According to the eBird data, Bramblings are most active between 8am and 3pm. There were a few spottings just outside this time range, but there were no outlier times that the birds were spotted. \n",
    "\n",
    "The consistency of this data suggests that there is no exception with the birds being active at night and it just not being recorded. These birds seem to definitely only be active in the morning and afternoon. \n",
    "\n",
    "Of course, these birds are no longer present in King County according to the records of sightings. But even though the birds were only present for about 2 months, the data is so consistent that we can trust the graph. \n",
    "\n",
    "<h3> Anna's Hummingbird: </h3>\n",
    "\n",
    "According to the eBird data, Anna's Hummingbirds are active from 5am to 8pm, and are most active during 8am. the birds are active from the early morning into the late evening, but they are most active in mid-morning. There were outliers throughout the night, which suggests that the birds are actually out more at night than the data shows. This is because there are very few bird watchers at night to spot these birds if they are active. However, they seem to for the most part be active during all parts of daylight, especially in the morning. \n",
    "\n",
    "It should be considered that these birds have a much higher and more consistent population in King County. This makes outliers more likely to be spotted, so it is possible that the outliers that were spotted in the night could have been part of a very small percentage of the species of bird that do go out at night. \n",
    "\n",
    "It seems very odd that no birds were spotted between 5pm and 6pm. This must just be by chance, as there is no logical explanation for why the birds would not be present during this one hour. The only possible cause of this I can think of is that birders may be eating a meal during this 5pm-6pm time, and not be paying so much attention to the sky. However, even with this scenario, it is unlikely that no birds would be spotted. \n",
    "\n",
    "<h3> Blackswift: </h3>\n",
    "\n",
    "According to the eBird data, Blackswifts are active between 4pm and 10pm. They are most active in the morning, especially at 5am and 8am. There were no significat outliers from this range. \n",
    "\n",
    "This data is very consistent. Not only were there no outliers, but this data was collected from 2009 through 2016, and this consistency lasted 8 years. Additionally, Blackswifts are only present in King County in late spring and summer, so this expanded range of hours that Blackswifts are active matches the increased daylight hours in the summers. \n",
    "\n",
    "<h3> Harlequin Duck </h3>\n",
    "\n",
    "According to the eBird data, Harlequin Ducks are active between 6am and 4pm, and they very active throughout this whole span, but by a little bit are most present between 8am and 12pm. There is a second very small spike between 5pm and 8pm, there are a small amount of outlier spottings during the night. \n",
    "\n",
    "These birds are present year round, but are most present in the winter, moderately present in the spring and fall, and hardly present in the summer. This likely explains why the birds are not usually active past the afternoon, as there are less daylight hours in the winter. \n",
    "\n",
    "As for the outliers, because the scale is relatively low for the graph for Harlequin ducks, a very small amount of outliers is more visible than the same amount would be for the scale of a mmore prevalent species of bird such as the Anna's Hummingbirds. These outliers may indicate that Harlequin Ducks are more present than we realize at night due to there being a lack of birders out at that time, or they could actually jusy be rare oddities. \n",
    "\n",
    "<h3> Snowy Owl: </h3>\n",
    "\n",
    "According to the eBird data, Snowy Owls are active from 7am to 7pm, and they are most active between 10pm and 3pm. This makes sense because these birds are only present in the months around the winter solstice, which is has the shortest days of the year. Due to the lack of daylight in the evening, the birds were not spotted later than the afternoon. \n",
    "\n",
    "This data is relatively inconsistent. Snowy Owls were only present in King County for 2 winters, so there was not a lot of time to establish consistent patterns. Also, there were not a lot of birds spotted, so one outlier in the middle of the night does not have enough data to make it insignificant. It is possible that these birds were present at night but just were not spotted nearly as much as when birders were watchig more during the day, but this bird could also have been an oddity.\n",
    "\n",
    "<h3> Lazuli Bunting: </h3>\n",
    "\n",
    "According to the eBird data, Lazuli Buntings are active between 3am and 9pm, and are most active in the morning from 4am to 10am. These times are likely because this species of bird is present in King County in the summer when the days are longest. The birds are out most in the morning when it starts to get sunny. \n",
    "\n",
    "This data is very consistent because there were no outliers in the observations of this species of bird, and the birds have been sighted from 2009 through 2016. Additionally, there were 774 spottings, which is enough combined with the other data to say that this data is very consistent. \n"
   ]
  },
  {
   "cell_type": "markdown",
   "metadata": {},
   "source": [
    "<h2> Conclusion:"
   ]
  },
  {
   "cell_type": "markdown",
   "metadata": {},
   "source": [
    "Overall, most of the data for the birds' occurence at certain times makes sense. Birds that are not here at all times of the year likely migrate to other regions to keep themselves in a constant climate that best suits them. The times that birds were active during the day also usually matched up with the time of year they were in King County. Birds in the winter tended to only be out through the afternoon, whereas birds in the summer were out earlier and were out later in the day to take advantage of the increased daylight hours. It was interesting how some species of birds consistently came to King County every year, while some would come for one or two seasons and then not show up again. This suggests that though birds sometimes find new places to migrate to, it often does not work well for the birds and they may not come back. The birds that come back tend to be consistent. \n",
    "\n",
    "Over the years, the data for bird occurences in King County from eBird has been growing more and more consistent as the years of recordings go on. As we head into the future, birders will continue to document consistencies that will become more and more accurate as time goes on."
   ]
  },
  {
   "cell_type": "code",
   "execution_count": null,
   "metadata": {
    "collapsed": true
   },
   "outputs": [],
   "source": []
  }
 ],
 "metadata": {
  "anaconda-cloud": {},
  "kernelspec": {
   "display_name": "Python [Root]",
   "language": "python",
   "name": "Python [Root]"
  },
  "language_info": {
   "codemirror_mode": {
    "name": "ipython",
    "version": 3
   },
   "file_extension": ".py",
   "mimetype": "text/x-python",
   "name": "python",
   "nbconvert_exporter": "python",
   "pygments_lexer": "ipython3",
   "version": "3.5.2"
  }
 },
 "nbformat": 4,
 "nbformat_minor": 0
}
