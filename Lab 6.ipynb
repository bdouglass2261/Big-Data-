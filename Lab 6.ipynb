{
 "cells": [
  {
   "cell_type": "markdown",
   "metadata": {},
   "source": [
    "<h1> Coding My Own Neural Network To Predict Test Scores</h1>\n",
    "\n",
    "Ben Douglass\n",
    "\n",
    "1/1/17\n",
    "\n",
    "Big Data\n",
    "\n",
    "Period 8"
   ]
  },
  {
   "cell_type": "code",
   "execution_count": null,
   "metadata": {
    "collapsed": false
   },
   "outputs": [],
   "source": [
    "import statistics\n",
    "import numpy as np\n",
    "import matplotlib.pylab as plt \n",
    "% matplotlib inline \n",
    "\n",
    "\n",
    "X = np.array(([3,5], [5,1], [10,2]), dtype=float)\n",
    "y = np.array(([75], [82], [93]), dtype=float) \n",
    "\n",
    "#Scale the data\n",
    "\n",
    "X = X/np.amax(X, axis=0)\n",
    "y = y/100\n",
    "\n",
    "\n",
    "class Neural_Network(object):\n",
    "    def __init__(self):\n",
    "        #Define HyperParameters, establish the structure and behavior of network\n",
    "        #Self function makes code assessible to entire class\n",
    "        self.inputLayerSize = 2\n",
    "        self.outputLayerSize = 1\n",
    "        self.hiddenLayerSize = 3\n",
    "        \n",
    "        #Weights (Parameters) - how the inputs are affected, plugging into an equations\n",
    "        self.W1 = np.random.randn(self.inputLayerSize, \\\n",
    "                                 self.hiddenLayerSize) \n",
    "        self.W2 = np.random.randn(self.hiddenLayerSize, \\\n",
    "                                 self.outputLayerSize)\n",
    "        \n",
    "    def forward(self, X):\n",
    "        #Propagate inputs through network \n",
    "        self.z2 = np.dot(X, self.W1)\n",
    "        self.a2 = self.sigmoid(self.z2)\n",
    "        self.z3 = np.dot(self.a2, self.W2)\n",
    "        yHat = self.sigmoid(self.z3)\n",
    "        return yHat\n",
    "        \n",
    "    def sigmoid(self, z):\n",
    "        #Apply sigmoid activaiton function \n",
    "        return 1/(1+np.exp(-z))\n",
    "    \n",
    "    def sigmoidPrime(self, z):\n",
    "        #Derivative of Sigmoid Function \n",
    "        return np.exp(-z)/((1+np.exp(-z))**2)\n",
    "    \n",
    "    def costFunction(self, X, y):\n",
    "        #Compute cost for given X,y, use weights already stored in class.\n",
    "        self.yHat = self.forward(X)\n",
    "        J = 0.5*sum((y-self.yHat)**2)\n",
    "        return J\n",
    "    \n",
    "    def costFunctionPrime(self, X, y):\n",
    "        #Compute derivative with respect to W1 and W2\n",
    "        self.yHat = self.forward(X)\n",
    "        \n",
    "        delta3 = np.multiply(-(y-self.yHat), self.sigmoidPrime(self.z3))\n",
    "        dJdW2 = np.dot(self.a2.T, delta3)\n",
    "        \n",
    "        delta2 = np.dot(delta3, self.W2.T)*self.sigmoidPrime(self.z2)\n",
    "        dJdW1 = np.dot(X.T, delta2)\n",
    "        \n",
    "        return dJdW1, dJdW2\n",
    "    \n",
    "    #Helps Functions for interacting with other classes\n",
    "    def getParams(self):\n",
    "        #Get W1 and W2 uncrolled into vector \n",
    "        params = np.concatenate((self.W1.ravel(), self.W2.ravel())\n",
    ")\n",
    "        return params\n",
    "    \n",
    "    def setParams(self, params):\n",
    "        #Set W1 and W2 using single parameter vector:\n",
    "        W1_start = 0\n",
    "        W1_end = self.hiddenLayerSize * self.inputLayerSize\n",
    "        self.W1 = np.reshape(params[W1_start:W1_end], \\\n",
    "                             (self.inputLayerSize, self.hiddenLayerSize))\n",
    "        W2_end = W1_end + self.hiddenLayerSize*self.outputLayerSize\n",
    "        self.W2 = np.reshape(params[W1_end:W2_end], \\\n",
    "                             (self.hiddenLayerSize, self.outputLayerSize))\n",
    "        \n",
    "    def computeGradients(self, X, y):\n",
    "        dJdW1, dJdW2 = self.costFunctionPrime(X, y)\n",
    "        return np.concatenate((dJdW1.ravel(), dJdW2.ravel()))\n",
    "    \n"
   ]
  },
  {
   "cell_type": "markdown",
   "metadata": {},
   "source": [
    "The goal of this code is to have inputs for the number of hours I slept and the number of hours I studied, and make a predictive output of how I am most likely to score on the test. I will do a supervised regression problem by creating two two-dimensional numpy arrays with example data to train a model, so that based off the two inputs it will be able to predict my test score.\n",
    "\n",
    "I need to account for the difference in units for the input and output. The input is in hours, and the output is a percent between 0 and 100. To scale this data so the mismatching units don't mess up the output, I can divide each number by the maximum value for that number. Specifically, I am dividing the input umber of hours by the maximum number of hours in that specific input (for example, the maximum number of hours I slept is 10, so I would divide all the number of hours slept by 10), and I would divide the test score by 100 because this is the maximum score I could get. \n",
    "\n",
    "Then, I am building an Artificial Neural Network, which takes the two inputs, puts them through a layer of an algorithm, and then gives me an output. The \"init\" method is used to instantiate constants and variables, and each of the constants and variables will be accessible to the entire class by writing \"self.\" before their names. There is a constant that I define for each layer of the Artificial Neural Network: inputLayerSize is 2 variables, outputLayerSize is 1 output, and hiddenLayerSize has 3 parts to the algorithm. \n",
    "\n",
    "A method called \"forward\" is used to move the data through the layers of the Artificial Neural Network. This is done with matrices rather than one at a time, which is much more efficient (the input, X, is a 3x2 matrix, and the output, the y prediction, is a 3x1 matrix). How it works is the \"synapses\" that connect the inputs to the layer of algorithms multiply the input matrices that are distributed to each part of the middle layer, to get a 3x3 matrix. \n",
    "\n",
    "Once I get this matrix in the middle layer, I multiply it by the activation function. In the code I multiply the data by a function called \"sigmoid\". \n",
    "\n",
    "I will then get the output by multiplying all the input functions by the \"weight\" of the synapses that connect from the middle layer to the output. To do this, I will first initialize the weight matrices of the final connecting synapses to the output within the \"init\" method. Then, I will implement forward propogation in a method called \"forward\", and within that I can use the \".\" method for matrix multiplication. And at this point, the class is capable of estimating your test score, the output, based off the inputs of hours of sleep and hours studying. \n",
    "\n",
    "I then want to take the derivative of sigmoid so I can tell what the slope is to go in the directoin of the minimum value to be used as the final weight. This is called \"gradient descent\". I want to find the minimum value because I want the estimation of y to be as close to real y value as possible. When I subtract yhat from y, I want it to be a low number. The derivative of the function \"sigmoid\" is a new function called \"sigmoidPrime\".\n",
    "\n",
    "To calculate the costs for each example, I used a function called \"costFunction\". This determines the cost of error for the predictive model on the weights. Thus telling us how innaccurate or accurate the prediction is. (doc: Andrew)\n",
    "\n",
    "To make costFunction more accurate, I am taking the derivative of it. This is similar to why I am taking the derivative of sigmoid: to figure out which direction the values go down. This is because I want the values to be lower so they are more accurate. I am taking into account each of the three parts of the middle layer that will be multiplied by the weight. This is called \"batch gradient descent\".  \n",
    "\n",
    "At the end of the end of the code I use \"getParams\", \"setParams\", and \"computerGradient\" to test my math. \n"
   ]
  },
  {
   "cell_type": "code",
   "execution_count": null,
   "metadata": {
    "collapsed": true
   },
   "outputs": [],
   "source": [
    "import time \n",
    "\n",
    "weightsToTry = np.linspace(-10,10,1000)\n",
    "costs = np.zeros(1000)\n",
    "\n",
    "startTime = time.clock()\n",
    "for i in range(1000):\n",
    "    NN.W1[0,0] = weightsToTry[i]\n",
    "    yHat = NN.forward(X)\n",
    "    costs[i] = 0.5*sum((y-yHat)**2)\n",
    "    \n",
    "endTime = time.clock()\n",
    "\n",
    "plt.plot(weightsToTry, costs)\n",
    "plt.ylabel('Costs')\n",
    "plt.xlabel('Weights') \n"
   ]
  },
  {
   "cell_type": "markdown",
   "metadata": {},
   "source": []
  },
  {
   "cell_type": "code",
   "execution_count": 26,
   "metadata": {
    "collapsed": false
   },
   "outputs": [
    {
     "data": {
      "text/plain": [
       "<matplotlib.legend.Legend at 0x110c21e80>"
      ]
     },
     "execution_count": 26,
     "metadata": {},
     "output_type": "execute_result"
    },
    {
     "data": {
      "image/png": "[encoded data removed]",
      "text/plain": [
       "<matplotlib.figure.Figure at 0x1033ef9e8>"
      ]
     },
     "metadata": {},
     "output_type": "display_data"
    }
   ],
   "source": [
    "testValues = np.arange(-5,5,0.01)\n",
    "plt.plot(testValues, NN.sigmoid(testValues), linewidth = 2)\n",
    "plt.plot(testValues, NN.sigmoidPrime(testValues), linewidth=2)\n",
    "plt.grid(1)\n",
    "plt.legend(['sigmoid', 'sigmoidPrime'])"
   ]
  },
  {
   "cell_type": "raw",
   "metadata": {},
   "source": [
    "Here I made a graph to compare the function \"sigmoid\", which is what will multiply by the final weight to get an accurate output, and its derivative \"sigmoidPrime\", to see the change in sigmoid that will help signify at what point the low values are. I want the low values because the lower the cost, the more accurate the output will be. "
   ]
  },
  {
   "cell_type": "code",
   "execution_count": 22,
   "metadata": {
    "collapsed": true
   },
   "outputs": [],
   "source": [
    "NN = Neural_Network()"
   ]
  },
  {
   "cell_type": "code",
   "execution_count": 19,
   "metadata": {
    "collapsed": true
   },
   "outputs": [],
   "source": [
    "def sigmoid(z):\n",
    "    #Apply sigmoid activation function \n",
    "    return 1/(1+np.exp(-z))"
   ]
  },
  {
   "cell_type": "code",
   "execution_count": null,
   "metadata": {
    "collapsed": true
   },
   "outputs": [],
   "source": []
  },
  {
   "cell_type": "code",
   "execution_count": 20,
   "metadata": {
    "collapsed": false
   },
   "outputs": [
    {
     "data": {
      "text/plain": [
       "[<matplotlib.lines.Line2D at 0x1033863c8>]"
      ]
     },
     "execution_count": 20,
     "metadata": {},
     "output_type": "execute_result"
    },
    {
     "data": {
      "image/png": "[encoded data removed]",
      "text/plain": [
       "<matplotlib.figure.Figure at 0x110435d68>"
      ]
     },
     "metadata": {},
     "output_type": "display_data"
    }
   ],
   "source": [
    "testInput = np.arange(-6,6,0.01)\n",
    "plt.plot(testInput, sigmoid(testInput), linewidth=1)"
   ]
  },
  {
   "cell_type": "markdown",
   "metadata": {},
   "source": []
  },
  {
   "cell_type": "code",
   "execution_count": 21,
   "metadata": {
    "collapsed": false
   },
   "outputs": [
    {
     "data": {
      "text/plain": [
       "array([[ 0.49216055,  0.2968695 ,  0.14064194],\n",
       "       [ 0.57203311,  0.34514241,  0.5024091 ],\n",
       "       [ 0.13372622,  0.88125113,  0.55566182]])"
      ]
     },
     "execution_count": 21,
     "metadata": {},
     "output_type": "execute_result"
    }
   ],
   "source": [
    "sigmoid(1)\n",
    "sigmoid(np.array([-1,0,1]))\n",
    "sigmoid(np.random.randn(3,3))"
   ]
  },
  {
   "cell_type": "code",
   "execution_count": 23,
   "metadata": {
    "collapsed": false
   },
   "outputs": [
    {
     "name": "stdout",
     "output_type": "stream",
     "text": [
      "[[ 0.59520989]\n",
      " [ 0.79954163]\n",
      " [ 0.79412568]]\n"
     ]
    },
    {
     "data": {
      "text/plain": [
       "array([[ 75.],\n",
       "       [ 82.],\n",
       "       [ 93.]])"
      ]
     },
     "execution_count": 23,
     "metadata": {},
     "output_type": "execute_result"
    }
   ],
   "source": [
    "yHat = NN.forward(X)\n",
    "print(yHat)\n",
    "y"
   ]
  },
  {
   "cell_type": "markdown",
   "metadata": {},
   "source": [
    "This shows our estimations of the output based off the class earlier."
   ]
  },
  {
   "cell_type": "code",
   "execution_count": 24,
   "metadata": {
    "collapsed": false
   },
   "outputs": [
    {
     "name": "stdout",
     "output_type": "stream",
     "text": [
      "(3, 2) (3, 1)\n"
     ]
    }
   ],
   "source": [
    "print(X.shape, y.shape)"
   ]
  },
  {
   "cell_type": "markdown",
   "metadata": {},
   "source": [
    "This shows the shape of the matrix variables X and y, which are the input and output respectively. "
   ]
  },
  {
   "cell_type": "code",
   "execution_count": 25,
   "metadata": {
    "collapsed": false
   },
   "outputs": [
    {
     "data": {
      "text/plain": [
       "<matplotlib.legend.Legend at 0x1106567f0>"
      ]
     },
     "execution_count": 25,
     "metadata": {},
     "output_type": "execute_result"
    },
    {
     "data": {
      "image/png": "[encoded data removed]",
      "text/plain": [
       "<matplotlib.figure.Figure at 0x1105fcac8>"
      ]
     },
     "metadata": {},
     "output_type": "display_data"
    }
   ],
   "source": [
    "#Compare estimate, yHat, to actually score\n",
    "plt.bar([0,1,2], y, width = 0.35, alpha=0.8)\n",
    "plt.bar([0.35,1.35,2.35],yHat, width = 0.35, color='r', alpha=0.8)\n",
    "plt.legend(['y', 'yHat'])"
   ]
  },
  {
   "cell_type": "code",
   "execution_count": 15,
   "metadata": {
    "collapsed": true
   },
   "outputs": [],
   "source": [
    "\n",
    "        \n",
    "    "
   ]
  },
  {
   "cell_type": "code",
   "execution_count": null,
   "metadata": {
    "collapsed": true
   },
   "outputs": [],
   "source": []
  }
 ],
 "metadata": {
  "anaconda-cloud": {},
  "kernelspec": {
   "display_name": "Python [Root]",
   "language": "python",
   "name": "Python [Root]"
  },
  "language_info": {
   "codemirror_mode": {
    "name": "ipython",
    "version": 3
   },
   "file_extension": ".py",
   "mimetype": "text/x-python",
   "name": "python",
   "nbconvert_exporter": "python",
   "pygments_lexer": "ipython3",
   "version": "3.5.2"
  }
 },
 "nbformat": 4,
 "nbformat_minor": 0
}
